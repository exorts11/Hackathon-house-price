{
 "cells": [
  {
   "cell_type": "code",
   "execution_count": 3,
   "metadata": {},
   "outputs": [],
   "source": [
    "import pandas as pd\n",
    "import matplotlib.pyplot as plt\n",
    "import re\n",
    "import numpy as np\n",
    "import seaborn as sns\n",
    "from scipy import stats\n",
    "import math"
   ]
  },
  {
   "cell_type": "code",
   "execution_count": 46,
   "metadata": {},
   "outputs": [],
   "source": [
    "def countNull (data):\n",
    "    # Porcentaje de valores nulos en cada columna\n",
    "    n = pd.DataFrame(data.isnull().sum(), columns=['Nulos'])\n",
    "    n['Entries'] = data.shape[0]\n",
    "    \n",
    "    n['Porcentaje'] = n['Nulos']/n['Entries']\n",
    "    \n",
    "\n",
    "    if n.loc[n.Porcentaje > 0, 'Porcentaje'].shape[0] > 0:\n",
    "        plt.hist(n.Porcentaje, bins= 100)\n",
    "        plt.xlabel('Columnas con datos faltantes')\n",
    "        plt.grid()\n",
    "        plt.show()\n",
    "\n",
    "        # Columnas con valores nulos\n",
    "        n.loc[n.Porcentaje > 0, 'Porcentaje'].sort_values().plot(kind='bar', figsize =(20,10))\n",
    "    \n",
    "    else:\n",
    "        print('Sin valores nulos')\n",
    "        return\n",
    "\n",
    "    return n"
   ]
  },
  {
   "cell_type": "code",
   "execution_count": 47,
   "metadata": {},
   "outputs": [],
   "source": [
    "df = pd.read_csv('datasets/house_train_raw.csv')"
   ]
  },
  {
   "cell_type": "markdown",
   "metadata": {},
   "source": [
    "Valores nulos"
   ]
  },
  {
   "cell_type": "code",
   "execution_count": 48,
   "metadata": {},
   "outputs": [
    {
     "data": {
      "image/png": "[encoded data removed]",
      "text/plain": [
       "<Figure size 432x288 with 1 Axes>"
      ]
     },
     "metadata": {
      "needs_background": "light"
     },
     "output_type": "display_data"
    },
    {
     "data": {
      "image/png": "[encoded data removed]",
      "text/plain": [
       "<Figure size 1440x720 with 1 Axes>"
      ]
     },
     "metadata": {
      "needs_background": "light"
     },
     "output_type": "display_data"
    }
   ],
   "source": [
    "nulls = countNull(df)"
   ]
  },
  {
   "cell_type": "code",
   "execution_count": 49,
   "metadata": {},
   "outputs": [
    {
     "data": {
      "text/plain": [
       "Electrical      0.000685\n",
       "MasVnrType      0.005479\n",
       "MasVnrArea      0.005479\n",
       "BsmtQual        0.025342\n",
       "BsmtCond        0.025342\n",
       "BsmtFinType1    0.025342\n",
       "BsmtExposure    0.026027\n",
       "BsmtFinType2    0.026027\n",
       "GarageCond      0.055479\n",
       "GarageQual      0.055479\n",
       "GarageFinish    0.055479\n",
       "GarageType      0.055479\n",
       "GarageYrBlt     0.055479\n",
       "LotFrontage     0.177397\n",
       "FireplaceQu     0.472603\n",
       "Fence           0.807534\n",
       "Alley           0.937671\n",
       "MiscFeature     0.963014\n",
       "PoolQC          0.995205\n",
       "Name: Porcentaje, dtype: float64"
      ]
     },
     "execution_count": 49,
     "metadata": {},
     "output_type": "execute_result"
    }
   ],
   "source": [
    "nulls.loc[nulls.Porcentaje > 0, 'Porcentaje'].sort_values()"
   ]
  },
  {
   "cell_type": "markdown",
   "metadata": {},
   "source": [
    "Obtener features del readme"
   ]
  },
  {
   "cell_type": "code",
   "execution_count": 50,
   "metadata": {},
   "outputs": [],
   "source": [
    "# Obtener feaures\n",
    "columns = []\n",
    "#features numericas\n",
    "numerical = []\n",
    "n = 0\n",
    "count = 0\n",
    "\n",
    "with open(\"datasets/readme.txt\", \"r\") as file:\n",
    "    for line in file:\n",
    "        if re.findall('[a-zA-Z0-9]+:\\s+[a-zA-Z]+', line):\n",
    "            columns.append(re.findall('([a-zA-Z0-9]+):\\s+[a-zA-Z]+', line)[0])\n",
    "            count+=1\n",
    "            #print(n)\n",
    "\n",
    "            if n<3:\n",
    "                numerical.append(count-2)\n",
    "                #print(count-2, columns[count-2])\n",
    "            \n",
    "            n = 0\n",
    "\n",
    "        n+=1\n",
    "\n",
    "z = np.array(columns)\n",
    "\n",
    "# Hardcoding con los datos de las 2 celdas siguientes\n",
    "numerical = z[numerical]\n",
    "numerical = np.append (numerical, ['BedroomAbvGr', 'KitchenAbvGr', 'MiscVal'])\n",
    "indexes = ['Bedroom', 'Kitchen']\n",
    "numerical = np.setdiff1d(numerical, indexes)\n",
    "\n",
    "#\n",
    "col = np.append (z, ['BedroomAbvGr', 'KitchenAbvGr', 'MiscVal'])\n",
    "indexes = ['Bedroom', 'Kitchen']\n",
    "col = np.setdiff1d(col, indexes)"
   ]
  },
  {
   "cell_type": "code",
   "execution_count": 51,
   "metadata": {},
   "outputs": [
    {
     "name": "stdout",
     "output_type": "stream",
     "text": [
      "Id\n",
      "BedroomAbvGr\n",
      "KitchenAbvGr\n",
      "MiscVal\n",
      "SalePrice\n"
     ]
    }
   ],
   "source": [
    "# features en df que no se encuentran en el diccionario de datos\n",
    "for feature in df.columns:\n",
    "    if feature not in columns:\n",
    "        print(feature)"
   ]
  },
  {
   "cell_type": "code",
   "execution_count": 52,
   "metadata": {},
   "outputs": [
    {
     "name": "stdout",
     "output_type": "stream",
     "text": [
      "Bedroom\n",
      "Kitchen\n"
     ]
    }
   ],
   "source": [
    "# features en el diccionario de datos que no se encuentran en df\n",
    "for feature in columns:\n",
    "    if feature not in df.columns:\n",
    "        print(feature)"
   ]
  },
  {
   "cell_type": "code",
   "execution_count": 53,
   "metadata": {},
   "outputs": [
    {
     "name": "stdout",
     "output_type": "stream",
     "text": [
      "Id\n",
      "BedroomAbvGr\n",
      "KitchenAbvGr\n",
      "MiscVal\n",
      "SalePrice\n",
      "Bedroom\n",
      "Kitchen\n"
     ]
    }
   ],
   "source": [
    "# features en df que no se encuentran en el diccionario de datos\n",
    "for feature in df.columns:\n",
    "    if feature not in z:\n",
    "        print(feature)\n",
    "\n",
    "# features en el diccionario de datos que no se encuentran en df\n",
    "for feature in z:\n",
    "    if feature not in df.columns:\n",
    "        print(feature)"
   ]
  },
  {
   "cell_type": "code",
   "execution_count": 54,
   "metadata": {},
   "outputs": [],
   "source": [
    "s = nulls.loc[nulls.Porcentaje > 0, 'Porcentaje'].index"
   ]
  },
  {
   "cell_type": "code",
   "execution_count": 55,
   "metadata": {},
   "outputs": [
    {
     "name": "stdout",
     "output_type": "stream",
     "text": [
      "57 LotFrontage: Linear feet of street connected to property\n",
      "\n",
      "66 Alley: Type of alley access to property\n",
      "\n",
      "268 MasVnrType: Masonry veneer type\n",
      "\n",
      "276 MasVnrArea: Masonry veneer area in square feet\n",
      "\n",
      "303 BsmtQual: Evaluates the height of the basement\n",
      "\n",
      "312 BsmtCond: Evaluates the general condition of the basement\n",
      "\n",
      "321 BsmtExposure: Refers to walkout or garden level walls\n",
      "\n",
      "329 BsmtFinType1: Rating of basement finished area\n",
      "\n",
      "341 BsmtFinType2: Rating of basement finished area (if multiple types)\n",
      "\n",
      "379 Electrical: Electrical system\n",
      "\n",
      "430 FireplaceQu: Fireplace quality\n",
      "\n",
      "439 GarageType: Garage location\n",
      "\n",
      "449 GarageYrBlt: Year garage was built\n",
      "\n",
      "451 GarageFinish: Interior finish of the garage\n",
      "\n",
      "462 GarageQual: Garage quality\n",
      "\n",
      "471 GarageCond: Garage condition\n",
      "\n",
      "498 PoolQC: Pool quality\n",
      "\n",
      "506 Fence: Fence quality\n",
      "\n",
      "514 MiscFeature: Miscellaneous feature not covered in other categories\n",
      "\n"
     ]
    }
   ],
   "source": [
    "# Conocer en que numero de linea del diccionario de datos se encuentran las variables con datos faltantes \n",
    "# para leer su descripcion\n",
    "with open(\"datasets/readme.txt\", \"r\") as file:\n",
    "    for idx, line in enumerate(file):\n",
    "        if re.findall('[a-zA-Z0-9]+:\\s+[a-zA-Z]+', line):\n",
    "            if re.findall('([a-zA-Z0-9]+):\\s+[a-zA-Z]+', line)[0] in s:\n",
    "                print(idx, line)"
   ]
  },
  {
   "cell_type": "code",
   "execution_count": 56,
   "metadata": {},
   "outputs": [
    {
     "name": "stdout",
     "output_type": "stream",
     "text": [
      "GarageYrBlt\n",
      "LotFrontage\n",
      "MasVnrArea\n"
     ]
    }
   ],
   "source": [
    "# variables numericas con valores nulos\n",
    "mask = []\n",
    "for feature in numerical:\n",
    "    if feature in nulls.loc[nulls.Porcentaje > 0, 'Porcentaje']:\n",
    "        print(feature)\n",
    "        mask.append(feature)"
   ]
  },
  {
   "cell_type": "markdown",
   "metadata": {},
   "source": [
    "Conclusion"
   ]
  },
  {
   "cell_type": "code",
   "execution_count": 57,
   "metadata": {},
   "outputs": [],
   "source": [
    "# -----------------------------------------VARIABLES NUMERICAS-------------------\n",
    "# Los valores nulos encontrados en variables numericas: GarageYrBlt y MasVnrArea se debe a que la feature no existe en la casa,\n",
    "# por lo que los valores nulos seran reemplazados con el año de construccion de la casa y ceros, respectivamente.\n",
    "\n",
    "# Los valores nulos en LotFrontage seran reemplazados con la raiz cuadrada de LotArea.\n",
    "\n",
    "# -----------------------------------------VARIABLES CATEGORICAS------------------\n",
    "# En la columna Electrical existe un valor nulo que sera reemplazado con la moda\n",
    "# Todos los demas valores nulos se deben a que la caracterictica a la que hacen referencia no existe en la casa, por lo que se \n",
    "# sustituiran con el valor 'noApply'."
   ]
  },
  {
   "cell_type": "markdown",
   "metadata": {},
   "source": [
    "Llenar valores nulos"
   ]
  },
  {
   "cell_type": "code",
   "execution_count": 58,
   "metadata": {},
   "outputs": [
    {
     "data": {
      "text/plain": [
       "['GarageYrBlt', 'LotFrontage', 'MasVnrArea']"
      ]
     },
     "execution_count": 58,
     "metadata": {},
     "output_type": "execute_result"
    }
   ],
   "source": [
    "mask"
   ]
  },
  {
   "cell_type": "code",
   "execution_count": 59,
   "metadata": {},
   "outputs": [],
   "source": [
    "# GarageYrBlt y MasVnrArea\n",
    "df.loc[:,mask] = df.loc[:,mask].fillna(0)\n",
    "df.loc[df.GarageYrBlt == 0, 'GarageYrBlt'] = df.loc[df.GarageYrBlt == 0, 'YearBuilt']\n",
    "\n",
    "# LotFrontage\n",
    "df.loc[df.LotFrontage == 0, 'LotFrontage'] = df.loc[df.LotFrontage == 0, 'LotArea']**(1/2)"
   ]
  },
  {
   "cell_type": "code",
   "execution_count": 60,
   "metadata": {},
   "outputs": [
    {
     "data": {
      "text/plain": [
       "0    SBrkr\n",
       "Name: Electrical, dtype: object"
      ]
     },
     "execution_count": 60,
     "metadata": {},
     "output_type": "execute_result"
    }
   ],
   "source": [
    "df.Electrical.mode()"
   ]
  },
  {
   "cell_type": "code",
   "execution_count": 61,
   "metadata": {},
   "outputs": [],
   "source": [
    "# Electrical\n",
    "df.loc[df.Electrical.isnull(),'Electrical'] = 'SBrkr'"
   ]
  },
  {
   "cell_type": "code",
   "execution_count": 62,
   "metadata": {},
   "outputs": [],
   "source": [
    "# Todas las demas columnas\n",
    "df.fillna('noApply', inplace=True)"
   ]
  },
  {
   "cell_type": "code",
   "execution_count": 63,
   "metadata": {},
   "outputs": [
    {
     "name": "stdout",
     "output_type": "stream",
     "text": [
      "Sin valores nulos\n"
     ]
    }
   ],
   "source": [
    "countNull(df)"
   ]
  },
  {
   "cell_type": "markdown",
   "metadata": {},
   "source": [
    "Elegir variables numericas a usar"
   ]
  },
  {
   "cell_type": "code",
   "execution_count": 64,
   "metadata": {},
   "outputs": [
    {
     "data": {
      "text/plain": [
       "count      1460.000000\n",
       "mean      10516.828082\n",
       "std        9981.264932\n",
       "min        1300.000000\n",
       "25%        7553.500000\n",
       "50%        9478.500000\n",
       "75%       11601.500000\n",
       "max      215245.000000\n",
       "Name: LotArea, dtype: float64"
      ]
     },
     "execution_count": 64,
     "metadata": {},
     "output_type": "execute_result"
    }
   ],
   "source": [
    "# variables numericas\n",
    "#numerical\n",
    "df.loc[:,numerical]['LotArea'].describe()"
   ]
  },
  {
   "cell_type": "code",
   "execution_count": 65,
   "metadata": {},
   "outputs": [],
   "source": [
    "z = np.append(numerical, 'SalePrice')\n",
    "\n",
    "corr = df.loc[:, z].corr()"
   ]
  },
  {
   "cell_type": "code",
   "execution_count": 66,
   "metadata": {},
   "outputs": [],
   "source": [
    "#plt.figure(figsize = (20,10))\n",
    "#plt.bar(z, corr.SalePrice.values)\n",
    "#plt.show()"
   ]
  },
  {
   "cell_type": "code",
   "execution_count": 67,
   "metadata": {},
   "outputs": [],
   "source": [
    "mask = z[corr.SalePrice.values < 0.4]\n",
    "corr.drop(columns=mask,axis=1, inplace= True)\n",
    "corr.drop(mask, axis=0, inplace=True)"
   ]
  },
  {
   "cell_type": "code",
   "execution_count": 68,
   "metadata": {},
   "outputs": [
    {
     "data": {
      "text/plain": [
       "Index(['1stFlrSF', 'Fireplaces', 'FullBath', 'GarageArea', 'GarageCars',\n",
       "       'GarageYrBlt', 'GrLivArea', 'MasVnrArea', 'TotRmsAbvGrd', 'TotalBsmtSF',\n",
       "       'YearBuilt', 'YearRemodAdd', 'SalePrice'],\n",
       "      dtype='object')"
      ]
     },
     "execution_count": 68,
     "metadata": {},
     "output_type": "execute_result"
    }
   ],
   "source": [
    "corr.index"
   ]
  },
  {
   "cell_type": "code",
   "execution_count": 69,
   "metadata": {},
   "outputs": [
    {
     "data": {
      "text/html": [
       "<style type=\"text/css\">\n",
       "#T_fa5bf_row0_col0, #T_fa5bf_row1_col1, #T_fa5bf_row2_col2, #T_fa5bf_row3_col3, #T_fa5bf_row4_col4, #T_fa5bf_row5_col5, #T_fa5bf_row6_col6, #T_fa5bf_row7_col7, #T_fa5bf_row8_col8, #T_fa5bf_row9_col9, #T_fa5bf_row10_col10, #T_fa5bf_row11_col11, #T_fa5bf_row12_col12 {\n",
       "  background-color: #b40426;\n",
       "  color: #f1f1f1;\n",
       "}\n",
       "#T_fa5bf_row0_col1, #T_fa5bf_row0_col8, #T_fa5bf_row4_col11 {\n",
       "  background-color: #aec9fc;\n",
       "  color: #000000;\n",
       "}\n",
       "#T_fa5bf_row0_col2 {\n",
       "  background-color: #7597f6;\n",
       "  color: #f1f1f1;\n",
       "}\n",
       "#T_fa5bf_row0_col3 {\n",
       "  background-color: #9fbfff;\n",
       "  color: #000000;\n",
       "}\n",
       "#T_fa5bf_row0_col4, #T_fa5bf_row0_col7, #T_fa5bf_row6_col11 {\n",
       "  background-color: #7a9df8;\n",
       "  color: #f1f1f1;\n",
       "}\n",
       "#T_fa5bf_row0_col5, #T_fa5bf_row2_col0, #T_fa5bf_row2_col3, #T_fa5bf_row7_col5 {\n",
       "  background-color: #7699f6;\n",
       "  color: #f1f1f1;\n",
       "}\n",
       "#T_fa5bf_row0_col6, #T_fa5bf_row12_col9 {\n",
       "  background-color: #d2dbe8;\n",
       "  color: #000000;\n",
       "}\n",
       "#T_fa5bf_row0_col9 {\n",
       "  background-color: #f49a7b;\n",
       "  color: #000000;\n",
       "}\n",
       "#T_fa5bf_row0_col10, #T_fa5bf_row7_col8 {\n",
       "  background-color: #7da0f9;\n",
       "  color: #f1f1f1;\n",
       "}\n",
       "#T_fa5bf_row0_col11 {\n",
       "  background-color: #6788ee;\n",
       "  color: #f1f1f1;\n",
       "}\n",
       "#T_fa5bf_row0_col12, #T_fa5bf_row11_col2 {\n",
       "  background-color: #90b2fe;\n",
       "  color: #000000;\n",
       "}\n",
       "#T_fa5bf_row1_col0, #T_fa5bf_row4_col1, #T_fa5bf_row4_col7, #T_fa5bf_row8_col0, #T_fa5bf_row9_col7 {\n",
       "  background-color: #84a7fc;\n",
       "  color: #f1f1f1;\n",
       "}\n",
       "#T_fa5bf_row1_col2, #T_fa5bf_row1_col3, #T_fa5bf_row1_col4, #T_fa5bf_row1_col5, #T_fa5bf_row1_col11, #T_fa5bf_row1_col12, #T_fa5bf_row5_col1, #T_fa5bf_row8_col9, #T_fa5bf_row8_col10, #T_fa5bf_row10_col6, #T_fa5bf_row10_col8, #T_fa5bf_row11_col0, #T_fa5bf_row11_col7 {\n",
       "  background-color: #3b4cc0;\n",
       "  color: #f1f1f1;\n",
       "}\n",
       "#T_fa5bf_row1_col6, #T_fa5bf_row4_col12, #T_fa5bf_row9_col10 {\n",
       "  background-color: #a7c5fe;\n",
       "  color: #000000;\n",
       "}\n",
       "#T_fa5bf_row1_col7, #T_fa5bf_row5_col9 {\n",
       "  background-color: #5470de;\n",
       "  color: #f1f1f1;\n",
       "}\n",
       "#T_fa5bf_row1_col8, #T_fa5bf_row6_col7 {\n",
       "  background-color: #8fb1fe;\n",
       "  color: #000000;\n",
       "}\n",
       "#T_fa5bf_row1_col9, #T_fa5bf_row5_col12, #T_fa5bf_row11_col12 {\n",
       "  background-color: #516ddb;\n",
       "  color: #f1f1f1;\n",
       "}\n",
       "#T_fa5bf_row1_col10, #T_fa5bf_row10_col0 {\n",
       "  background-color: #4b64d5;\n",
       "  color: #f1f1f1;\n",
       "}\n",
       "#T_fa5bf_row2_col1 {\n",
       "  background-color: #6c8ff1;\n",
       "  color: #f1f1f1;\n",
       "}\n",
       "#T_fa5bf_row2_col4, #T_fa5bf_row7_col10 {\n",
       "  background-color: #89acfd;\n",
       "  color: #000000;\n",
       "}\n",
       "#T_fa5bf_row2_col5 {\n",
       "  background-color: #c1d4f4;\n",
       "  color: #000000;\n",
       "}\n",
       "#T_fa5bf_row2_col6 {\n",
       "  background-color: #e6d7cf;\n",
       "  color: #000000;\n",
       "}\n",
       "#T_fa5bf_row2_col7, #T_fa5bf_row6_col10 {\n",
       "  background-color: #5e7de7;\n",
       "  color: #f1f1f1;\n",
       "}\n",
       "#T_fa5bf_row2_col8 {\n",
       "  background-color: #dedcdb;\n",
       "  color: #000000;\n",
       "}\n",
       "#T_fa5bf_row2_col9, #T_fa5bf_row10_col1 {\n",
       "  background-color: #4a63d3;\n",
       "  color: #f1f1f1;\n",
       "}\n",
       "#T_fa5bf_row2_col10, #T_fa5bf_row8_col2 {\n",
       "  background-color: #c4d5f3;\n",
       "  color: #000000;\n",
       "}\n",
       "#T_fa5bf_row2_col11 {\n",
       "  background-color: #b6cefa;\n",
       "  color: #000000;\n",
       "}\n",
       "#T_fa5bf_row2_col12 {\n",
       "  background-color: #7396f5;\n",
       "  color: #f1f1f1;\n",
       "}\n",
       "#T_fa5bf_row3_col0 {\n",
       "  background-color: #a9c6fd;\n",
       "  color: #000000;\n",
       "}\n",
       "#T_fa5bf_row3_col1, #T_fa5bf_row9_col4 {\n",
       "  background-color: #779af7;\n",
       "  color: #f1f1f1;\n",
       "}\n",
       "#T_fa5bf_row3_col2 {\n",
       "  background-color: #80a3fa;\n",
       "  color: #f1f1f1;\n",
       "}\n",
       "#T_fa5bf_row3_col4, #T_fa5bf_row5_col10 {\n",
       "  background-color: #e8765c;\n",
       "  color: #f1f1f1;\n",
       "}\n",
       "#T_fa5bf_row3_col5, #T_fa5bf_row11_col5 {\n",
       "  background-color: #ebd3c6;\n",
       "  color: #000000;\n",
       "}\n",
       "#T_fa5bf_row3_col6, #T_fa5bf_row10_col4 {\n",
       "  background-color: #abc8fd;\n",
       "  color: #000000;\n",
       "}\n",
       "#T_fa5bf_row3_col7, #T_fa5bf_row6_col4, #T_fa5bf_row6_col9, #T_fa5bf_row7_col6 {\n",
       "  background-color: #88abfd;\n",
       "  color: #000000;\n",
       "}\n",
       "#T_fa5bf_row3_col8, #T_fa5bf_row9_col1 {\n",
       "  background-color: #93b5fe;\n",
       "  color: #000000;\n",
       "}\n",
       "#T_fa5bf_row3_col9 {\n",
       "  background-color: #98b9ff;\n",
       "  color: #000000;\n",
       "}\n",
       "#T_fa5bf_row3_col10 {\n",
       "  background-color: #c7d7f0;\n",
       "  color: #000000;\n",
       "}\n",
       "#T_fa5bf_row3_col11, #T_fa5bf_row5_col2 {\n",
       "  background-color: #9bbcff;\n",
       "  color: #000000;\n",
       "}\n",
       "#T_fa5bf_row3_col12, #T_fa5bf_row4_col8 {\n",
       "  background-color: #9dbdff;\n",
       "  color: #000000;\n",
       "}\n",
       "#T_fa5bf_row4_col0 {\n",
       "  background-color: #92b4fe;\n",
       "  color: #000000;\n",
       "}\n",
       "#T_fa5bf_row4_col2, #T_fa5bf_row9_col3, #T_fa5bf_row10_col2 {\n",
       "  background-color: #9ebeff;\n",
       "  color: #000000;\n",
       "}\n",
       "#T_fa5bf_row4_col3 {\n",
       "  background-color: #e67259;\n",
       "  color: #f1f1f1;\n",
       "}\n",
       "#T_fa5bf_row4_col5 {\n",
       "  background-color: #eed0c0;\n",
       "  color: #000000;\n",
       "}\n",
       "#T_fa5bf_row4_col6 {\n",
       "  background-color: #aac7fd;\n",
       "  color: #000000;\n",
       "}\n",
       "#T_fa5bf_row4_col9, #T_fa5bf_row9_col8 {\n",
       "  background-color: #7ea1fa;\n",
       "  color: #f1f1f1;\n",
       "}\n",
       "#T_fa5bf_row4_col10 {\n",
       "  background-color: #dadce0;\n",
       "  color: #000000;\n",
       "}\n",
       "#T_fa5bf_row5_col0 {\n",
       "  background-color: #445acc;\n",
       "  color: #f1f1f1;\n",
       "}\n",
       "#T_fa5bf_row5_col3, #T_fa5bf_row5_col4, #T_fa5bf_row6_col12, #T_fa5bf_row12_col5 {\n",
       "  background-color: #d1dae9;\n",
       "  color: #000000;\n",
       "}\n",
       "#T_fa5bf_row5_col6, #T_fa5bf_row5_col8 {\n",
       "  background-color: #485fd1;\n",
       "  color: #f1f1f1;\n",
       "}\n",
       "#T_fa5bf_row5_col7, #T_fa5bf_row11_col6 {\n",
       "  background-color: #5d7ce6;\n",
       "  color: #f1f1f1;\n",
       "}\n",
       "#T_fa5bf_row5_col11 {\n",
       "  background-color: #ead5c9;\n",
       "  color: #000000;\n",
       "}\n",
       "#T_fa5bf_row6_col0 {\n",
       "  background-color: #c9d7f0;\n",
       "  color: #000000;\n",
       "}\n",
       "#T_fa5bf_row6_col1 {\n",
       "  background-color: #c0d4f5;\n",
       "  color: #000000;\n",
       "}\n",
       "#T_fa5bf_row6_col2 {\n",
       "  background-color: #dfdbd9;\n",
       "  color: #000000;\n",
       "}\n",
       "#T_fa5bf_row6_col3, #T_fa5bf_row9_col12 {\n",
       "  background-color: #96b7ff;\n",
       "  color: #000000;\n",
       "}\n",
       "#T_fa5bf_row6_col5 {\n",
       "  background-color: #6a8bef;\n",
       "  color: #f1f1f1;\n",
       "}\n",
       "#T_fa5bf_row6_col8 {\n",
       "  background-color: #ec8165;\n",
       "  color: #f1f1f1;\n",
       "}\n",
       "#T_fa5bf_row7_col0 {\n",
       "  background-color: #6384eb;\n",
       "  color: #f1f1f1;\n",
       "}\n",
       "#T_fa5bf_row7_col1, #T_fa5bf_row10_col7 {\n",
       "  background-color: #6e90f2;\n",
       "  color: #f1f1f1;\n",
       "}\n",
       "#T_fa5bf_row7_col2 {\n",
       "  background-color: #455cce;\n",
       "  color: #f1f1f1;\n",
       "}\n",
       "#T_fa5bf_row7_col3, #T_fa5bf_row11_col3 {\n",
       "  background-color: #6687ed;\n",
       "  color: #f1f1f1;\n",
       "}\n",
       "#T_fa5bf_row7_col4, #T_fa5bf_row8_col4, #T_fa5bf_row8_col11 {\n",
       "  background-color: #5572df;\n",
       "  color: #f1f1f1;\n",
       "}\n",
       "#T_fa5bf_row7_col9, #T_fa5bf_row10_col12 {\n",
       "  background-color: #5a78e4;\n",
       "  color: #f1f1f1;\n",
       "}\n",
       "#T_fa5bf_row7_col11 {\n",
       "  background-color: #506bda;\n",
       "  color: #f1f1f1;\n",
       "}\n",
       "#T_fa5bf_row7_col12 {\n",
       "  background-color: #3d50c3;\n",
       "  color: #f1f1f1;\n",
       "}\n",
       "#T_fa5bf_row8_col1 {\n",
       "  background-color: #8db0fe;\n",
       "  color: #000000;\n",
       "}\n",
       "#T_fa5bf_row8_col3 {\n",
       "  background-color: #5875e1;\n",
       "  color: #f1f1f1;\n",
       "}\n",
       "#T_fa5bf_row8_col5 {\n",
       "  background-color: #465ecf;\n",
       "  color: #f1f1f1;\n",
       "}\n",
       "#T_fa5bf_row8_col6 {\n",
       "  background-color: #f08b6e;\n",
       "  color: #f1f1f1;\n",
       "}\n",
       "#T_fa5bf_row8_col7, #T_fa5bf_row8_col12 {\n",
       "  background-color: #6282ea;\n",
       "  color: #f1f1f1;\n",
       "}\n",
       "#T_fa5bf_row9_col0 {\n",
       "  background-color: #f39475;\n",
       "  color: #000000;\n",
       "}\n",
       "#T_fa5bf_row9_col2, #T_fa5bf_row11_col8 {\n",
       "  background-color: #5b7ae5;\n",
       "  color: #f1f1f1;\n",
       "}\n",
       "#T_fa5bf_row9_col5 {\n",
       "  background-color: #94b6ff;\n",
       "  color: #000000;\n",
       "}\n",
       "#T_fa5bf_row9_col6 {\n",
       "  background-color: #a5c3fe;\n",
       "  color: #000000;\n",
       "}\n",
       "#T_fa5bf_row9_col11 {\n",
       "  background-color: #7b9ff9;\n",
       "  color: #f1f1f1;\n",
       "}\n",
       "#T_fa5bf_row10_col3 {\n",
       "  background-color: #9abbff;\n",
       "  color: #000000;\n",
       "}\n",
       "#T_fa5bf_row10_col5 {\n",
       "  background-color: #e9785d;\n",
       "  color: #f1f1f1;\n",
       "}\n",
       "#T_fa5bf_row10_col9 {\n",
       "  background-color: #688aef;\n",
       "  color: #f1f1f1;\n",
       "}\n",
       "#T_fa5bf_row10_col11 {\n",
       "  background-color: #e7d7ce;\n",
       "  color: #000000;\n",
       "}\n",
       "#T_fa5bf_row11_col1 {\n",
       "  background-color: #3e51c5;\n",
       "  color: #f1f1f1;\n",
       "}\n",
       "#T_fa5bf_row11_col4 {\n",
       "  background-color: #7093f3;\n",
       "  color: #f1f1f1;\n",
       "}\n",
       "#T_fa5bf_row11_col9 {\n",
       "  background-color: #3c4ec2;\n",
       "  color: #f1f1f1;\n",
       "}\n",
       "#T_fa5bf_row11_col10 {\n",
       "  background-color: #e9d5cb;\n",
       "  color: #000000;\n",
       "}\n",
       "#T_fa5bf_row12_col0 {\n",
       "  background-color: #d8dce2;\n",
       "  color: #000000;\n",
       "}\n",
       "#T_fa5bf_row12_col1 {\n",
       "  background-color: #c3d5f4;\n",
       "  color: #000000;\n",
       "}\n",
       "#T_fa5bf_row12_col2 {\n",
       "  background-color: #c6d6f1;\n",
       "  color: #000000;\n",
       "}\n",
       "#T_fa5bf_row12_col3, #T_fa5bf_row12_col4, #T_fa5bf_row12_col8 {\n",
       "  background-color: #d9dce1;\n",
       "  color: #000000;\n",
       "}\n",
       "#T_fa5bf_row12_col6 {\n",
       "  background-color: #f5c1a9;\n",
       "  color: #000000;\n",
       "}\n",
       "#T_fa5bf_row12_col7 {\n",
       "  background-color: #b3cdfb;\n",
       "  color: #000000;\n",
       "}\n",
       "#T_fa5bf_row12_col10 {\n",
       "  background-color: #d5dbe5;\n",
       "  color: #000000;\n",
       "}\n",
       "#T_fa5bf_row12_col11 {\n",
       "  background-color: #cdd9ec;\n",
       "  color: #000000;\n",
       "}\n",
       "</style>\n",
       "<table id=\"T_fa5bf\">\n",
       "  <thead>\n",
       "    <tr>\n",
       "      <th class=\"blank level0\" >&nbsp;</th>\n",
       "      <th id=\"T_fa5bf_level0_col0\" class=\"col_heading level0 col0\" >1stFlrSF</th>\n",
       "      <th id=\"T_fa5bf_level0_col1\" class=\"col_heading level0 col1\" >Fireplaces</th>\n",
       "      <th id=\"T_fa5bf_level0_col2\" class=\"col_heading level0 col2\" >FullBath</th>\n",
       "      <th id=\"T_fa5bf_level0_col3\" class=\"col_heading level0 col3\" >GarageArea</th>\n",
       "      <th id=\"T_fa5bf_level0_col4\" class=\"col_heading level0 col4\" >GarageCars</th>\n",
       "      <th id=\"T_fa5bf_level0_col5\" class=\"col_heading level0 col5\" >GarageYrBlt</th>\n",
       "      <th id=\"T_fa5bf_level0_col6\" class=\"col_heading level0 col6\" >GrLivArea</th>\n",
       "      <th id=\"T_fa5bf_level0_col7\" class=\"col_heading level0 col7\" >MasVnrArea</th>\n",
       "      <th id=\"T_fa5bf_level0_col8\" class=\"col_heading level0 col8\" >TotRmsAbvGrd</th>\n",
       "      <th id=\"T_fa5bf_level0_col9\" class=\"col_heading level0 col9\" >TotalBsmtSF</th>\n",
       "      <th id=\"T_fa5bf_level0_col10\" class=\"col_heading level0 col10\" >YearBuilt</th>\n",
       "      <th id=\"T_fa5bf_level0_col11\" class=\"col_heading level0 col11\" >YearRemodAdd</th>\n",
       "      <th id=\"T_fa5bf_level0_col12\" class=\"col_heading level0 col12\" >SalePrice</th>\n",
       "    </tr>\n",
       "  </thead>\n",
       "  <tbody>\n",
       "    <tr>\n",
       "      <th id=\"T_fa5bf_level0_row0\" class=\"row_heading level0 row0\" >1stFlrSF</th>\n",
       "      <td id=\"T_fa5bf_row0_col0\" class=\"data row0 col0\" >1.000000</td>\n",
       "      <td id=\"T_fa5bf_row0_col1\" class=\"data row0 col1\" >0.410531</td>\n",
       "      <td id=\"T_fa5bf_row0_col2\" class=\"data row0 col2\" >0.380637</td>\n",
       "      <td id=\"T_fa5bf_row0_col3\" class=\"data row0 col3\" >0.489782</td>\n",
       "      <td id=\"T_fa5bf_row0_col4\" class=\"data row0 col4\" >0.439317</td>\n",
       "      <td id=\"T_fa5bf_row0_col5\" class=\"data row0 col5\" >0.265777</td>\n",
       "      <td id=\"T_fa5bf_row0_col6\" class=\"data row0 col6\" >0.566024</td>\n",
       "      <td id=\"T_fa5bf_row0_col7\" class=\"data row0 col7\" >0.339850</td>\n",
       "      <td id=\"T_fa5bf_row0_col8\" class=\"data row0 col8\" >0.409516</td>\n",
       "      <td id=\"T_fa5bf_row0_col9\" class=\"data row0 col9\" >0.819530</td>\n",
       "      <td id=\"T_fa5bf_row0_col10\" class=\"data row0 col10\" >0.281986</td>\n",
       "      <td id=\"T_fa5bf_row0_col11\" class=\"data row0 col11\" >0.240379</td>\n",
       "      <td id=\"T_fa5bf_row0_col12\" class=\"data row0 col12\" >0.605852</td>\n",
       "    </tr>\n",
       "    <tr>\n",
       "      <th id=\"T_fa5bf_level0_row1\" class=\"row_heading level0 row1\" >Fireplaces</th>\n",
       "      <td id=\"T_fa5bf_row1_col0\" class=\"data row1 col0\" >0.410531</td>\n",
       "      <td id=\"T_fa5bf_row1_col1\" class=\"data row1 col1\" >1.000000</td>\n",
       "      <td id=\"T_fa5bf_row1_col2\" class=\"data row1 col2\" >0.243671</td>\n",
       "      <td id=\"T_fa5bf_row1_col3\" class=\"data row1 col3\" >0.269141</td>\n",
       "      <td id=\"T_fa5bf_row1_col4\" class=\"data row1 col4\" >0.300789</td>\n",
       "      <td id=\"T_fa5bf_row1_col5\" class=\"data row1 col5\" >0.100058</td>\n",
       "      <td id=\"T_fa5bf_row1_col6\" class=\"data row1 col6\" >0.461679</td>\n",
       "      <td id=\"T_fa5bf_row1_col7\" class=\"data row1 col7\" >0.247015</td>\n",
       "      <td id=\"T_fa5bf_row1_col8\" class=\"data row1 col8\" >0.326114</td>\n",
       "      <td id=\"T_fa5bf_row1_col9\" class=\"data row1 col9\" >0.339519</td>\n",
       "      <td id=\"T_fa5bf_row1_col10\" class=\"data row1 col10\" >0.147716</td>\n",
       "      <td id=\"T_fa5bf_row1_col11\" class=\"data row1 col11\" >0.112581</td>\n",
       "      <td id=\"T_fa5bf_row1_col12\" class=\"data row1 col12\" >0.466929</td>\n",
       "    </tr>\n",
       "    <tr>\n",
       "      <th id=\"T_fa5bf_level0_row2\" class=\"row_heading level0 row2\" >FullBath</th>\n",
       "      <td id=\"T_fa5bf_row2_col0\" class=\"data row2 col0\" >0.380637</td>\n",
       "      <td id=\"T_fa5bf_row2_col1\" class=\"data row2 col1\" >0.243671</td>\n",
       "      <td id=\"T_fa5bf_row2_col2\" class=\"data row2 col2\" >1.000000</td>\n",
       "      <td id=\"T_fa5bf_row2_col3\" class=\"data row2 col3\" >0.405656</td>\n",
       "      <td id=\"T_fa5bf_row2_col4\" class=\"data row2 col4\" >0.469672</td>\n",
       "      <td id=\"T_fa5bf_row2_col5\" class=\"data row2 col5\" >0.463811</td>\n",
       "      <td id=\"T_fa5bf_row2_col6\" class=\"data row2 col6\" >0.630012</td>\n",
       "      <td id=\"T_fa5bf_row2_col7\" class=\"data row2 col7\" >0.272999</td>\n",
       "      <td id=\"T_fa5bf_row2_col8\" class=\"data row2 col8\" >0.554784</td>\n",
       "      <td id=\"T_fa5bf_row2_col9\" class=\"data row2 col9\" >0.323722</td>\n",
       "      <td id=\"T_fa5bf_row2_col10\" class=\"data row2 col10\" >0.468271</td>\n",
       "      <td id=\"T_fa5bf_row2_col11\" class=\"data row2 col11\" >0.439046</td>\n",
       "      <td id=\"T_fa5bf_row2_col12\" class=\"data row2 col12\" >0.560664</td>\n",
       "    </tr>\n",
       "    <tr>\n",
       "      <th id=\"T_fa5bf_level0_row3\" class=\"row_heading level0 row3\" >GarageArea</th>\n",
       "      <td id=\"T_fa5bf_row3_col0\" class=\"data row3 col0\" >0.489782</td>\n",
       "      <td id=\"T_fa5bf_row3_col1\" class=\"data row3 col1\" >0.269141</td>\n",
       "      <td id=\"T_fa5bf_row3_col2\" class=\"data row3 col2\" >0.405656</td>\n",
       "      <td id=\"T_fa5bf_row3_col3\" class=\"data row3 col3\" >1.000000</td>\n",
       "      <td id=\"T_fa5bf_row3_col4\" class=\"data row3 col4\" >0.882475</td>\n",
       "      <td id=\"T_fa5bf_row3_col5\" class=\"data row3 col5\" >0.602803</td>\n",
       "      <td id=\"T_fa5bf_row3_col6\" class=\"data row3 col6\" >0.468997</td>\n",
       "      <td id=\"T_fa5bf_row3_col7\" class=\"data row3 col7\" >0.370884</td>\n",
       "      <td id=\"T_fa5bf_row3_col8\" class=\"data row3 col8\" >0.337822</td>\n",
       "      <td id=\"T_fa5bf_row3_col9\" class=\"data row3 col9\" >0.486665</td>\n",
       "      <td id=\"T_fa5bf_row3_col10\" class=\"data row3 col10\" >0.478954</td>\n",
       "      <td id=\"T_fa5bf_row3_col11\" class=\"data row3 col11\" >0.371600</td>\n",
       "      <td id=\"T_fa5bf_row3_col12\" class=\"data row3 col12\" >0.623431</td>\n",
       "    </tr>\n",
       "    <tr>\n",
       "      <th id=\"T_fa5bf_level0_row4\" class=\"row_heading level0 row4\" >GarageCars</th>\n",
       "      <td id=\"T_fa5bf_row4_col0\" class=\"data row4 col0\" >0.439317</td>\n",
       "      <td id=\"T_fa5bf_row4_col1\" class=\"data row4 col1\" >0.300789</td>\n",
       "      <td id=\"T_fa5bf_row4_col2\" class=\"data row4 col2\" >0.469672</td>\n",
       "      <td id=\"T_fa5bf_row4_col3\" class=\"data row4 col3\" >0.882475</td>\n",
       "      <td id=\"T_fa5bf_row4_col4\" class=\"data row4 col4\" >1.000000</td>\n",
       "      <td id=\"T_fa5bf_row4_col5\" class=\"data row4 col5\" >0.619897</td>\n",
       "      <td id=\"T_fa5bf_row4_col6\" class=\"data row4 col6\" >0.467247</td>\n",
       "      <td id=\"T_fa5bf_row4_col7\" class=\"data row4 col7\" >0.361945</td>\n",
       "      <td id=\"T_fa5bf_row4_col8\" class=\"data row4 col8\" >0.362289</td>\n",
       "      <td id=\"T_fa5bf_row4_col9\" class=\"data row4 col9\" >0.434585</td>\n",
       "      <td id=\"T_fa5bf_row4_col10\" class=\"data row4 col10\" >0.537850</td>\n",
       "      <td id=\"T_fa5bf_row4_col11\" class=\"data row4 col11\" >0.420622</td>\n",
       "      <td id=\"T_fa5bf_row4_col12\" class=\"data row4 col12\" >0.640409</td>\n",
       "    </tr>\n",
       "    <tr>\n",
       "      <th id=\"T_fa5bf_level0_row5\" class=\"row_heading level0 row5\" >GarageYrBlt</th>\n",
       "      <td id=\"T_fa5bf_row5_col0\" class=\"data row5 col0\" >0.265777</td>\n",
       "      <td id=\"T_fa5bf_row5_col1\" class=\"data row5 col1\" >0.100058</td>\n",
       "      <td id=\"T_fa5bf_row5_col2\" class=\"data row5 col2\" >0.463811</td>\n",
       "      <td id=\"T_fa5bf_row5_col3\" class=\"data row5 col3\" >0.602803</td>\n",
       "      <td id=\"T_fa5bf_row5_col4\" class=\"data row5 col4\" >0.619897</td>\n",
       "      <td id=\"T_fa5bf_row5_col5\" class=\"data row5 col5\" >1.000000</td>\n",
       "      <td id=\"T_fa5bf_row5_col6\" class=\"data row5 col6\" >0.235387</td>\n",
       "      <td id=\"T_fa5bf_row5_col7\" class=\"data row5 col7\" >0.267224</td>\n",
       "      <td id=\"T_fa5bf_row5_col8\" class=\"data row5 col8\" >0.137666</td>\n",
       "      <td id=\"T_fa5bf_row5_col9\" class=\"data row5 col9\" >0.345936</td>\n",
       "      <td id=\"T_fa5bf_row5_col10\" class=\"data row5 col10\" >0.845141</td>\n",
       "      <td id=\"T_fa5bf_row5_col11\" class=\"data row5 col11\" >0.604353</td>\n",
       "      <td id=\"T_fa5bf_row5_col12\" class=\"data row5 col12\" >0.508043</td>\n",
       "    </tr>\n",
       "    <tr>\n",
       "      <th id=\"T_fa5bf_level0_row6\" class=\"row_heading level0 row6\" >GrLivArea</th>\n",
       "      <td id=\"T_fa5bf_row6_col0\" class=\"data row6 col0\" >0.566024</td>\n",
       "      <td id=\"T_fa5bf_row6_col1\" class=\"data row6 col1\" >0.461679</td>\n",
       "      <td id=\"T_fa5bf_row6_col2\" class=\"data row6 col2\" >0.630012</td>\n",
       "      <td id=\"T_fa5bf_row6_col3\" class=\"data row6 col3\" >0.468997</td>\n",
       "      <td id=\"T_fa5bf_row6_col4\" class=\"data row6 col4\" >0.467247</td>\n",
       "      <td id=\"T_fa5bf_row6_col5\" class=\"data row6 col5\" >0.235387</td>\n",
       "      <td id=\"T_fa5bf_row6_col6\" class=\"data row6 col6\" >1.000000</td>\n",
       "      <td id=\"T_fa5bf_row6_col7\" class=\"data row6 col7\" >0.388052</td>\n",
       "      <td id=\"T_fa5bf_row6_col8\" class=\"data row6 col8\" >0.825489</td>\n",
       "      <td id=\"T_fa5bf_row6_col9\" class=\"data row6 col9\" >0.454868</td>\n",
       "      <td id=\"T_fa5bf_row6_col10\" class=\"data row6 col10\" >0.199010</td>\n",
       "      <td id=\"T_fa5bf_row6_col11\" class=\"data row6 col11\" >0.287389</td>\n",
       "      <td id=\"T_fa5bf_row6_col12\" class=\"data row6 col12\" >0.708624</td>\n",
       "    </tr>\n",
       "    <tr>\n",
       "      <th id=\"T_fa5bf_level0_row7\" class=\"row_heading level0 row7\" >MasVnrArea</th>\n",
       "      <td id=\"T_fa5bf_row7_col0\" class=\"data row7 col0\" >0.339850</td>\n",
       "      <td id=\"T_fa5bf_row7_col1\" class=\"data row7 col1\" >0.247015</td>\n",
       "      <td id=\"T_fa5bf_row7_col2\" class=\"data row7 col2\" >0.272999</td>\n",
       "      <td id=\"T_fa5bf_row7_col3\" class=\"data row7 col3\" >0.370884</td>\n",
       "      <td id=\"T_fa5bf_row7_col4\" class=\"data row7 col4\" >0.361945</td>\n",
       "      <td id=\"T_fa5bf_row7_col5\" class=\"data row7 col5\" >0.267224</td>\n",
       "      <td id=\"T_fa5bf_row7_col6\" class=\"data row7 col6\" >0.388052</td>\n",
       "      <td id=\"T_fa5bf_row7_col7\" class=\"data row7 col7\" >1.000000</td>\n",
       "      <td id=\"T_fa5bf_row7_col8\" class=\"data row7 col8\" >0.279568</td>\n",
       "      <td id=\"T_fa5bf_row7_col9\" class=\"data row7 col9\" >0.360067</td>\n",
       "      <td id=\"T_fa5bf_row7_col10\" class=\"data row7 col10\" >0.311600</td>\n",
       "      <td id=\"T_fa5bf_row7_col11\" class=\"data row7 col11\" >0.176529</td>\n",
       "      <td id=\"T_fa5bf_row7_col12\" class=\"data row7 col12\" >0.472614</td>\n",
       "    </tr>\n",
       "    <tr>\n",
       "      <th id=\"T_fa5bf_level0_row8\" class=\"row_heading level0 row8\" >TotRmsAbvGrd</th>\n",
       "      <td id=\"T_fa5bf_row8_col0\" class=\"data row8 col0\" >0.409516</td>\n",
       "      <td id=\"T_fa5bf_row8_col1\" class=\"data row8 col1\" >0.326114</td>\n",
       "      <td id=\"T_fa5bf_row8_col2\" class=\"data row8 col2\" >0.554784</td>\n",
       "      <td id=\"T_fa5bf_row8_col3\" class=\"data row8 col3\" >0.337822</td>\n",
       "      <td id=\"T_fa5bf_row8_col4\" class=\"data row8 col4\" >0.362289</td>\n",
       "      <td id=\"T_fa5bf_row8_col5\" class=\"data row8 col5\" >0.137666</td>\n",
       "      <td id=\"T_fa5bf_row8_col6\" class=\"data row8 col6\" >0.825489</td>\n",
       "      <td id=\"T_fa5bf_row8_col7\" class=\"data row8 col7\" >0.279568</td>\n",
       "      <td id=\"T_fa5bf_row8_col8\" class=\"data row8 col8\" >1.000000</td>\n",
       "      <td id=\"T_fa5bf_row8_col9\" class=\"data row8 col9\" >0.285573</td>\n",
       "      <td id=\"T_fa5bf_row8_col10\" class=\"data row8 col10\" >0.095589</td>\n",
       "      <td id=\"T_fa5bf_row8_col11\" class=\"data row8 col11\" >0.191740</td>\n",
       "      <td id=\"T_fa5bf_row8_col12\" class=\"data row8 col12\" >0.533723</td>\n",
       "    </tr>\n",
       "    <tr>\n",
       "      <th id=\"T_fa5bf_level0_row9\" class=\"row_heading level0 row9\" >TotalBsmtSF</th>\n",
       "      <td id=\"T_fa5bf_row9_col0\" class=\"data row9 col0\" >0.819530</td>\n",
       "      <td id=\"T_fa5bf_row9_col1\" class=\"data row9 col1\" >0.339519</td>\n",
       "      <td id=\"T_fa5bf_row9_col2\" class=\"data row9 col2\" >0.323722</td>\n",
       "      <td id=\"T_fa5bf_row9_col3\" class=\"data row9 col3\" >0.486665</td>\n",
       "      <td id=\"T_fa5bf_row9_col4\" class=\"data row9 col4\" >0.434585</td>\n",
       "      <td id=\"T_fa5bf_row9_col5\" class=\"data row9 col5\" >0.345936</td>\n",
       "      <td id=\"T_fa5bf_row9_col6\" class=\"data row9 col6\" >0.454868</td>\n",
       "      <td id=\"T_fa5bf_row9_col7\" class=\"data row9 col7\" >0.360067</td>\n",
       "      <td id=\"T_fa5bf_row9_col8\" class=\"data row9 col8\" >0.285573</td>\n",
       "      <td id=\"T_fa5bf_row9_col9\" class=\"data row9 col9\" >1.000000</td>\n",
       "      <td id=\"T_fa5bf_row9_col10\" class=\"data row9 col10\" >0.391452</td>\n",
       "      <td id=\"T_fa5bf_row9_col11\" class=\"data row9 col11\" >0.291066</td>\n",
       "      <td id=\"T_fa5bf_row9_col12\" class=\"data row9 col12\" >0.613581</td>\n",
       "    </tr>\n",
       "    <tr>\n",
       "      <th id=\"T_fa5bf_level0_row10\" class=\"row_heading level0 row10\" >YearBuilt</th>\n",
       "      <td id=\"T_fa5bf_row10_col0\" class=\"data row10 col0\" >0.281986</td>\n",
       "      <td id=\"T_fa5bf_row10_col1\" class=\"data row10 col1\" >0.147716</td>\n",
       "      <td id=\"T_fa5bf_row10_col2\" class=\"data row10 col2\" >0.468271</td>\n",
       "      <td id=\"T_fa5bf_row10_col3\" class=\"data row10 col3\" >0.478954</td>\n",
       "      <td id=\"T_fa5bf_row10_col4\" class=\"data row10 col4\" >0.537850</td>\n",
       "      <td id=\"T_fa5bf_row10_col5\" class=\"data row10 col5\" >0.845141</td>\n",
       "      <td id=\"T_fa5bf_row10_col6\" class=\"data row10 col6\" >0.199010</td>\n",
       "      <td id=\"T_fa5bf_row10_col7\" class=\"data row10 col7\" >0.311600</td>\n",
       "      <td id=\"T_fa5bf_row10_col8\" class=\"data row10 col8\" >0.095589</td>\n",
       "      <td id=\"T_fa5bf_row10_col9\" class=\"data row10 col9\" >0.391452</td>\n",
       "      <td id=\"T_fa5bf_row10_col10\" class=\"data row10 col10\" >1.000000</td>\n",
       "      <td id=\"T_fa5bf_row10_col11\" class=\"data row10 col11\" >0.592855</td>\n",
       "      <td id=\"T_fa5bf_row10_col12\" class=\"data row10 col12\" >0.522897</td>\n",
       "    </tr>\n",
       "    <tr>\n",
       "      <th id=\"T_fa5bf_level0_row11\" class=\"row_heading level0 row11\" >YearRemodAdd</th>\n",
       "      <td id=\"T_fa5bf_row11_col0\" class=\"data row11 col0\" >0.240379</td>\n",
       "      <td id=\"T_fa5bf_row11_col1\" class=\"data row11 col1\" >0.112581</td>\n",
       "      <td id=\"T_fa5bf_row11_col2\" class=\"data row11 col2\" >0.439046</td>\n",
       "      <td id=\"T_fa5bf_row11_col3\" class=\"data row11 col3\" >0.371600</td>\n",
       "      <td id=\"T_fa5bf_row11_col4\" class=\"data row11 col4\" >0.420622</td>\n",
       "      <td id=\"T_fa5bf_row11_col5\" class=\"data row11 col5\" >0.604353</td>\n",
       "      <td id=\"T_fa5bf_row11_col6\" class=\"data row11 col6\" >0.287389</td>\n",
       "      <td id=\"T_fa5bf_row11_col7\" class=\"data row11 col7\" >0.176529</td>\n",
       "      <td id=\"T_fa5bf_row11_col8\" class=\"data row11 col8\" >0.191740</td>\n",
       "      <td id=\"T_fa5bf_row11_col9\" class=\"data row11 col9\" >0.291066</td>\n",
       "      <td id=\"T_fa5bf_row11_col10\" class=\"data row11 col10\" >0.592855</td>\n",
       "      <td id=\"T_fa5bf_row11_col11\" class=\"data row11 col11\" >1.000000</td>\n",
       "      <td id=\"T_fa5bf_row11_col12\" class=\"data row11 col12\" >0.507101</td>\n",
       "    </tr>\n",
       "    <tr>\n",
       "      <th id=\"T_fa5bf_level0_row12\" class=\"row_heading level0 row12\" >SalePrice</th>\n",
       "      <td id=\"T_fa5bf_row12_col0\" class=\"data row12 col0\" >0.605852</td>\n",
       "      <td id=\"T_fa5bf_row12_col1\" class=\"data row12 col1\" >0.466929</td>\n",
       "      <td id=\"T_fa5bf_row12_col2\" class=\"data row12 col2\" >0.560664</td>\n",
       "      <td id=\"T_fa5bf_row12_col3\" class=\"data row12 col3\" >0.623431</td>\n",
       "      <td id=\"T_fa5bf_row12_col4\" class=\"data row12 col4\" >0.640409</td>\n",
       "      <td id=\"T_fa5bf_row12_col5\" class=\"data row12 col5\" >0.508043</td>\n",
       "      <td id=\"T_fa5bf_row12_col6\" class=\"data row12 col6\" >0.708624</td>\n",
       "      <td id=\"T_fa5bf_row12_col7\" class=\"data row12 col7\" >0.472614</td>\n",
       "      <td id=\"T_fa5bf_row12_col8\" class=\"data row12 col8\" >0.533723</td>\n",
       "      <td id=\"T_fa5bf_row12_col9\" class=\"data row12 col9\" >0.613581</td>\n",
       "      <td id=\"T_fa5bf_row12_col10\" class=\"data row12 col10\" >0.522897</td>\n",
       "      <td id=\"T_fa5bf_row12_col11\" class=\"data row12 col11\" >0.507101</td>\n",
       "      <td id=\"T_fa5bf_row12_col12\" class=\"data row12 col12\" >1.000000</td>\n",
       "    </tr>\n",
       "  </tbody>\n",
       "</table>\n"
      ],
      "text/plain": [
       "<pandas.io.formats.style.Styler at 0x1ce694eb730>"
      ]
     },
     "execution_count": 69,
     "metadata": {},
     "output_type": "execute_result"
    }
   ],
   "source": [
    "corr.style.background_gradient(cmap = 'coolwarm')"
   ]
  },
  {
   "cell_type": "code",
   "execution_count": 70,
   "metadata": {},
   "outputs": [
    {
     "data": {
      "text/plain": [
       "Index(['1stFlrSF', 'Fireplaces', 'FullBath', 'GarageArea', 'GarageCars',\n",
       "       'GarageYrBlt', 'GrLivArea', 'MasVnrArea', 'TotRmsAbvGrd', 'TotalBsmtSF',\n",
       "       'YearBuilt', 'YearRemodAdd', 'SalePrice'],\n",
       "      dtype='object')"
      ]
     },
     "execution_count": 70,
     "metadata": {},
     "output_type": "execute_result"
    }
   ],
   "source": [
    "corr.index"
   ]
  },
  {
   "cell_type": "code",
   "execution_count": 71,
   "metadata": {},
   "outputs": [],
   "source": [
    "numerical_continuous = ['Fireplaces', 'GarageCars',\n",
    "       'GrLivArea', 'MasVnrArea', 'TotalBsmtSF',\n",
    "       'YearBuilt', 'YearRemodAdd', 'SalePrice']"
   ]
  },
  {
   "cell_type": "code",
   "execution_count": 72,
   "metadata": {},
   "outputs": [
    {
     "data": {
      "text/plain": [
       "(array([121., 907., 372.,  52.,   3.,   4.,   0.,   0.,   0.,   1.]),\n",
       " array([   0.,  611., 1222., 1833., 2444., 3055., 3666., 4277., 4888.,\n",
       "        5499., 6110.]),\n",
       " <BarContainer object of 10 artists>)"
      ]
     },
     "execution_count": 72,
     "metadata": {},
     "output_type": "execute_result"
    },
    {
     "data": {
      "image/png": "[encoded data removed]",
      "text/plain": [
       "<Figure size 432x288 with 1 Axes>"
      ]
     },
     "metadata": {
      "needs_background": "light"
     },
     "output_type": "display_data"
    }
   ],
   "source": [
    "plt.hist(df.TotalBsmtSF)"
   ]
  },
  {
   "cell_type": "code",
   "execution_count": 73,
   "metadata": {},
   "outputs": [
    {
     "data": {
      "image/png": "[encoded data removed]",
      "text/plain": [
       "<Figure size 1296x1152 with 12 Axes>"
      ]
     },
     "metadata": {
      "needs_background": "light"
     },
     "output_type": "display_data"
    }
   ],
   "source": [
    "nr_rows = 4\n",
    "nr_cols = 3\n",
    "\n",
    "fig, axs = plt.subplots(nr_rows, nr_cols, figsize=(nr_cols*6,nr_rows*4))\n",
    "\n",
    "li_num_feats = list(corr.index)\n",
    "li_not_plot = ['Id', 'SalePrice', 'SalePrice_Log']\n",
    "li_plot_num_feats = [c for c in list(corr.index) if c not in li_not_plot]\n",
    "\n",
    "\n",
    "for r in range(0,nr_rows):\n",
    "    for c in range(0,nr_cols):  \n",
    "        i = r*nr_cols+c\n",
    "        if i < len(li_plot_num_feats):\n",
    "            sns.histplot(data = df[li_plot_num_feats[i]], ax = axs[r][c])#, x = target)\n",
    "            #sns.regplot(df[li_plot_num_feats[i]], target, ax = axs[r][c])\n",
    "            #stp = stats.pearsonr(df[li_plot_num_feats[i]], target)\n",
    "            #axs[r][c].text(0.4,0.9,\"title\",fontsize=7)\n",
    "            #str_title = \"r = \" + \"{0:.2f}\".format(stp[0]) + \"      \" \"p = \" + \"{0:.2f}\".format(stp[1])\n",
    "            axs[r][c].set_title(li_plot_num_feats[i],fontsize=11)\n",
    "            \n",
    "plt.tight_layout()\n",
    "\n",
    "plt.show()"
   ]
  },
  {
   "cell_type": "markdown",
   "metadata": {},
   "source": [
    "Cambiar features categoricas ordinales por numeros"
   ]
  },
  {
   "cell_type": "code",
   "execution_count": 74,
   "metadata": {},
   "outputs": [],
   "source": [
    "cat_ord = ['LotShape', 'Utilities', 'LandSlope', 'OverallQual', 'OverallCond',\n",
    "    'ExterQual', 'ExterCond', 'BsmtQual', 'BsmtCond', 'BsmtExposure',\n",
    "    'BsmtFinType1', 'BsmtFinType2', 'HeatingQC', 'CentralAir', 'KitchenQual',\n",
    "    'FireplaceQu', 'GarageFinish', 'GarageQual', 'GarageCond', 'PavedDrive',\n",
    "    'PoolQC']"
   ]
  },
  {
   "cell_type": "code",
   "execution_count": 75,
   "metadata": {},
   "outputs": [],
   "source": [
    "quality = pd.DataFrame(['noApply', 'Po', 'Fa', 'TA', 'Gd', 'Ex'], columns=['name'])\n",
    "quality.reset_index(inplace=True)\n",
    "quality.rename(columns = {'index':'id'}, inplace = True)"
   ]
  },
  {
   "cell_type": "code",
   "execution_count": 76,
   "metadata": {},
   "outputs": [
    {
     "data": {
      "text/html": [
       "<div>\n",
       "<style scoped>\n",
       "    .dataframe tbody tr th:only-of-type {\n",
       "        vertical-align: middle;\n",
       "    }\n",
       "\n",
       "    .dataframe tbody tr th {\n",
       "        vertical-align: top;\n",
       "    }\n",
       "\n",
       "    .dataframe thead th {\n",
       "        text-align: right;\n",
       "    }\n",
       "</style>\n",
       "<table border=\"1\" class=\"dataframe\">\n",
       "  <thead>\n",
       "    <tr style=\"text-align: right;\">\n",
       "      <th></th>\n",
       "      <th>id</th>\n",
       "      <th>name</th>\n",
       "    </tr>\n",
       "  </thead>\n",
       "  <tbody>\n",
       "    <tr>\n",
       "      <th>0</th>\n",
       "      <td>0</td>\n",
       "      <td>noApply</td>\n",
       "    </tr>\n",
       "    <tr>\n",
       "      <th>1</th>\n",
       "      <td>1</td>\n",
       "      <td>Po</td>\n",
       "    </tr>\n",
       "    <tr>\n",
       "      <th>2</th>\n",
       "      <td>2</td>\n",
       "      <td>Fa</td>\n",
       "    </tr>\n",
       "    <tr>\n",
       "      <th>3</th>\n",
       "      <td>3</td>\n",
       "      <td>TA</td>\n",
       "    </tr>\n",
       "    <tr>\n",
       "      <th>4</th>\n",
       "      <td>4</td>\n",
       "      <td>Gd</td>\n",
       "    </tr>\n",
       "    <tr>\n",
       "      <th>5</th>\n",
       "      <td>5</td>\n",
       "      <td>Ex</td>\n",
       "    </tr>\n",
       "  </tbody>\n",
       "</table>\n",
       "</div>"
      ],
      "text/plain": [
       "   id     name\n",
       "0   0  noApply\n",
       "1   1       Po\n",
       "2   2       Fa\n",
       "3   3       TA\n",
       "4   4       Gd\n",
       "5   5       Ex"
      ]
     },
     "execution_count": 76,
     "metadata": {},
     "output_type": "execute_result"
    }
   ],
   "source": [
    "quality"
   ]
  },
  {
   "cell_type": "code",
   "execution_count": 77,
   "metadata": {},
   "outputs": [],
   "source": [
    "new_df = df.copy()"
   ]
  },
  {
   "cell_type": "code",
   "execution_count": 78,
   "metadata": {},
   "outputs": [],
   "source": [
    "cat = []\n",
    "for feature in cat_ord:\n",
    "    if new_df[feature].unique()[0] in quality.name.unique():\n",
    "        new_df[feature+'key'] = pd.merge(right = quality, left= new_df[feature], how='left', left_on=feature, right_on='name').id\n",
    "        new_df.drop(columns=[feature], inplace=True)\n",
    "        new_df.rename(columns={feature+'key': feature}, inplace=True)\n",
    "        cat.append(feature)"
   ]
  },
  {
   "cell_type": "code",
   "execution_count": 79,
   "metadata": {},
   "outputs": [
    {
     "data": {
      "text/plain": [
       "['ExterQual',\n",
       " 'ExterCond',\n",
       " 'BsmtQual',\n",
       " 'BsmtCond',\n",
       " 'HeatingQC',\n",
       " 'KitchenQual',\n",
       " 'FireplaceQu',\n",
       " 'GarageQual',\n",
       " 'GarageCond',\n",
       " 'PoolQC']"
      ]
     },
     "execution_count": 79,
     "metadata": {},
     "output_type": "execute_result"
    }
   ],
   "source": [
    "cat"
   ]
  },
  {
   "cell_type": "code",
   "execution_count": 80,
   "metadata": {},
   "outputs": [
    {
     "data": {
      "text/plain": [
       "array(['ExterQual', 'ExterCond', 'BsmtQual', 'BsmtCond', 'HeatingQC',\n",
       "       'KitchenQual', 'FireplaceQu', 'GarageQual', 'GarageCond', 'PoolQC',\n",
       "       'SalePrice'], dtype='<U11')"
      ]
     },
     "execution_count": 80,
     "metadata": {},
     "output_type": "execute_result"
    }
   ],
   "source": [
    "c = np.array(cat)\n",
    "z = np.append(c, 'SalePrice')\n",
    "z"
   ]
  },
  {
   "cell_type": "code",
   "execution_count": 81,
   "metadata": {},
   "outputs": [
    {
     "data": {
      "image/png": "[encoded data removed]",
      "text/plain": [
       "<Figure size 1440x720 with 1 Axes>"
      ]
     },
     "metadata": {
      "needs_background": "light"
     },
     "output_type": "display_data"
    }
   ],
   "source": [
    "corr = new_df.loc[:, z].corr()\n",
    "plt.figure(figsize = (20,10))\n",
    "plt.bar(z, corr.SalePrice.values)\n",
    "plt.show()"
   ]
  },
  {
   "cell_type": "code",
   "execution_count": 82,
   "metadata": {},
   "outputs": [
    {
     "data": {
      "text/html": [
       "<style type=\"text/css\">\n",
       "#T_4032a_row0_col0, #T_4032a_row1_col1, #T_4032a_row2_col2, #T_4032a_row3_col3, #T_4032a_row4_col4, #T_4032a_row5_col5 {\n",
       "  background-color: #b40426;\n",
       "  color: #f1f1f1;\n",
       "}\n",
       "#T_4032a_row0_col1, #T_4032a_row3_col2 {\n",
       "  background-color: #b7cff9;\n",
       "  color: #000000;\n",
       "}\n",
       "#T_4032a_row0_col2 {\n",
       "  background-color: #bed2f6;\n",
       "  color: #000000;\n",
       "}\n",
       "#T_4032a_row0_col3 {\n",
       "  background-color: #ebd3c6;\n",
       "  color: #000000;\n",
       "}\n",
       "#T_4032a_row0_col4 {\n",
       "  background-color: #799cf8;\n",
       "  color: #f1f1f1;\n",
       "}\n",
       "#T_4032a_row0_col5 {\n",
       "  background-color: #cedaeb;\n",
       "  color: #000000;\n",
       "}\n",
       "#T_4032a_row1_col0 {\n",
       "  background-color: #a5c3fe;\n",
       "  color: #000000;\n",
       "}\n",
       "#T_4032a_row1_col2 {\n",
       "  background-color: #89acfd;\n",
       "  color: #000000;\n",
       "}\n",
       "#T_4032a_row1_col3 {\n",
       "  background-color: #8badfd;\n",
       "  color: #000000;\n",
       "}\n",
       "#T_4032a_row1_col4 {\n",
       "  background-color: #6282ea;\n",
       "  color: #f1f1f1;\n",
       "}\n",
       "#T_4032a_row1_col5 {\n",
       "  background-color: #96b7ff;\n",
       "  color: #000000;\n",
       "}\n",
       "#T_4032a_row2_col0 {\n",
       "  background-color: #8caffe;\n",
       "  color: #000000;\n",
       "}\n",
       "#T_4032a_row2_col1 {\n",
       "  background-color: #6384eb;\n",
       "  color: #f1f1f1;\n",
       "}\n",
       "#T_4032a_row2_col3 {\n",
       "  background-color: #86a9fc;\n",
       "  color: #f1f1f1;\n",
       "}\n",
       "#T_4032a_row2_col4, #T_4032a_row2_col5, #T_4032a_row4_col0, #T_4032a_row4_col1, #T_4032a_row4_col2, #T_4032a_row4_col3 {\n",
       "  background-color: #3b4cc0;\n",
       "  color: #f1f1f1;\n",
       "}\n",
       "#T_4032a_row3_col0 {\n",
       "  background-color: #ead4c8;\n",
       "  color: #000000;\n",
       "}\n",
       "#T_4032a_row3_col1 {\n",
       "  background-color: #9dbdff;\n",
       "  color: #000000;\n",
       "}\n",
       "#T_4032a_row3_col4 {\n",
       "  background-color: #7699f6;\n",
       "  color: #f1f1f1;\n",
       "}\n",
       "#T_4032a_row3_col5 {\n",
       "  background-color: #c1d4f4;\n",
       "  color: #000000;\n",
       "}\n",
       "#T_4032a_row4_col5 {\n",
       "  background-color: #6e90f2;\n",
       "  color: #f1f1f1;\n",
       "}\n",
       "#T_4032a_row5_col0 {\n",
       "  background-color: #dddcdc;\n",
       "  color: #000000;\n",
       "}\n",
       "#T_4032a_row5_col1 {\n",
       "  background-color: #c0d4f5;\n",
       "  color: #000000;\n",
       "}\n",
       "#T_4032a_row5_col2 {\n",
       "  background-color: #97b8ff;\n",
       "  color: #000000;\n",
       "}\n",
       "#T_4032a_row5_col3 {\n",
       "  background-color: #d6dce4;\n",
       "  color: #000000;\n",
       "}\n",
       "#T_4032a_row5_col4 {\n",
       "  background-color: #bfd3f6;\n",
       "  color: #000000;\n",
       "}\n",
       "</style>\n",
       "<table id=\"T_4032a\">\n",
       "  <thead>\n",
       "    <tr>\n",
       "      <th class=\"blank level0\" >&nbsp;</th>\n",
       "      <th id=\"T_4032a_level0_col0\" class=\"col_heading level0 col0\" >ExterQual</th>\n",
       "      <th id=\"T_4032a_level0_col1\" class=\"col_heading level0 col1\" >BsmtQual</th>\n",
       "      <th id=\"T_4032a_level0_col2\" class=\"col_heading level0 col2\" >HeatingQC</th>\n",
       "      <th id=\"T_4032a_level0_col3\" class=\"col_heading level0 col3\" >KitchenQual</th>\n",
       "      <th id=\"T_4032a_level0_col4\" class=\"col_heading level0 col4\" >FireplaceQu</th>\n",
       "      <th id=\"T_4032a_level0_col5\" class=\"col_heading level0 col5\" >SalePrice</th>\n",
       "    </tr>\n",
       "  </thead>\n",
       "  <tbody>\n",
       "    <tr>\n",
       "      <th id=\"T_4032a_level0_row0\" class=\"row_heading level0 row0\" >ExterQual</th>\n",
       "      <td id=\"T_4032a_row0_col0\" class=\"data row0 col0\" >1.000000</td>\n",
       "      <td id=\"T_4032a_row0_col1\" class=\"data row0 col1\" >0.565558</td>\n",
       "      <td id=\"T_4032a_row0_col2\" class=\"data row0 col2\" >0.520027</td>\n",
       "      <td id=\"T_4032a_row0_col3\" class=\"data row0 col3\" >0.716122</td>\n",
       "      <td id=\"T_4032a_row0_col4\" class=\"data row0 col4\" >0.361798</td>\n",
       "      <td id=\"T_4032a_row0_col5\" class=\"data row0 col5\" >0.682639</td>\n",
       "    </tr>\n",
       "    <tr>\n",
       "      <th id=\"T_4032a_level0_row1\" class=\"row_heading level0 row1\" >BsmtQual</th>\n",
       "      <td id=\"T_4032a_row1_col0\" class=\"data row1 col0\" >0.565558</td>\n",
       "      <td id=\"T_4032a_row1_col1\" class=\"data row1 col1\" >1.000000</td>\n",
       "      <td id=\"T_4032a_row1_col2\" class=\"data row1 col2\" >0.397169</td>\n",
       "      <td id=\"T_4032a_row1_col3\" class=\"data row1 col3\" >0.510938</td>\n",
       "      <td id=\"T_4032a_row1_col4\" class=\"data row1 col4\" >0.307337</td>\n",
       "      <td id=\"T_4032a_row1_col5\" class=\"data row1 col5\" >0.585207</td>\n",
       "    </tr>\n",
       "    <tr>\n",
       "      <th id=\"T_4032a_level0_row2\" class=\"row_heading level0 row2\" >HeatingQC</th>\n",
       "      <td id=\"T_4032a_row2_col0\" class=\"data row2 col0\" >0.520027</td>\n",
       "      <td id=\"T_4032a_row2_col1\" class=\"data row2 col1\" >0.397169</td>\n",
       "      <td id=\"T_4032a_row2_col2\" class=\"data row2 col2\" >1.000000</td>\n",
       "      <td id=\"T_4032a_row2_col3\" class=\"data row2 col3\" >0.504228</td>\n",
       "      <td id=\"T_4032a_row2_col4\" class=\"data row2 col4\" >0.207500</td>\n",
       "      <td id=\"T_4032a_row2_col5\" class=\"data row2 col5\" >0.427649</td>\n",
       "    </tr>\n",
       "    <tr>\n",
       "      <th id=\"T_4032a_level0_row3\" class=\"row_heading level0 row3\" >KitchenQual</th>\n",
       "      <td id=\"T_4032a_row3_col0\" class=\"data row3 col0\" >0.716122</td>\n",
       "      <td id=\"T_4032a_row3_col1\" class=\"data row3 col1\" >0.510938</td>\n",
       "      <td id=\"T_4032a_row3_col2\" class=\"data row3 col2\" >0.504228</td>\n",
       "      <td id=\"T_4032a_row3_col3\" class=\"data row3 col3\" >1.000000</td>\n",
       "      <td id=\"T_4032a_row3_col4\" class=\"data row3 col4\" >0.353806</td>\n",
       "      <td id=\"T_4032a_row3_col5\" class=\"data row3 col5\" >0.659600</td>\n",
       "    </tr>\n",
       "    <tr>\n",
       "      <th id=\"T_4032a_level0_row4\" class=\"row_heading level0 row4\" >FireplaceQu</th>\n",
       "      <td id=\"T_4032a_row4_col0\" class=\"data row4 col0\" >0.361798</td>\n",
       "      <td id=\"T_4032a_row4_col1\" class=\"data row4 col1\" >0.307337</td>\n",
       "      <td id=\"T_4032a_row4_col2\" class=\"data row4 col2\" >0.207500</td>\n",
       "      <td id=\"T_4032a_row4_col3\" class=\"data row4 col3\" >0.353806</td>\n",
       "      <td id=\"T_4032a_row4_col4\" class=\"data row4 col4\" >1.000000</td>\n",
       "      <td id=\"T_4032a_row4_col5\" class=\"data row4 col5\" >0.520438</td>\n",
       "    </tr>\n",
       "    <tr>\n",
       "      <th id=\"T_4032a_level0_row5\" class=\"row_heading level0 row5\" >SalePrice</th>\n",
       "      <td id=\"T_4032a_row5_col0\" class=\"data row5 col0\" >0.682639</td>\n",
       "      <td id=\"T_4032a_row5_col1\" class=\"data row5 col1\" >0.585207</td>\n",
       "      <td id=\"T_4032a_row5_col2\" class=\"data row5 col2\" >0.427649</td>\n",
       "      <td id=\"T_4032a_row5_col3\" class=\"data row5 col3\" >0.659600</td>\n",
       "      <td id=\"T_4032a_row5_col4\" class=\"data row5 col4\" >0.520438</td>\n",
       "      <td id=\"T_4032a_row5_col5\" class=\"data row5 col5\" >1.000000</td>\n",
       "    </tr>\n",
       "  </tbody>\n",
       "</table>\n"
      ],
      "text/plain": [
       "<pandas.io.formats.style.Styler at 0x1ce672f6700>"
      ]
     },
     "execution_count": 82,
     "metadata": {},
     "output_type": "execute_result"
    }
   ],
   "source": [
    "mask = z[corr.SalePrice.values < 0.4]\n",
    "corr.drop(columns=mask,axis=1, inplace= True)\n",
    "corr.drop(mask, axis=0, inplace=True)\n",
    "\n",
    "corr.style.background_gradient(cmap = 'coolwarm')"
   ]
  },
  {
   "cell_type": "code",
   "execution_count": 83,
   "metadata": {},
   "outputs": [
    {
     "data": {
      "text/plain": [
       "Index(['ExterQual', 'BsmtQual', 'HeatingQC', 'KitchenQual', 'FireplaceQu',\n",
       "       'SalePrice'],\n",
       "      dtype='object')"
      ]
     },
     "execution_count": 83,
     "metadata": {},
     "output_type": "execute_result"
    }
   ],
   "source": [
    "corr.columns"
   ]
  },
  {
   "cell_type": "markdown",
   "metadata": {},
   "source": [
    "Obtener dummies de variables categoricas no ordinales"
   ]
  },
  {
   "cell_type": "code",
   "execution_count": 84,
   "metadata": {},
   "outputs": [],
   "source": [
    "li_not_plot = list(numerical) + cat\n",
    "li_feats = [c for c in list(col) if c not in li_not_plot]"
   ]
  },
  {
   "cell_type": "code",
   "execution_count": 118,
   "metadata": {},
   "outputs": [],
   "source": [
    "new_df = df.copy()\n",
    "new_df = new_df.loc[:,li_feats+['SalePrice']]"
   ]
  },
  {
   "cell_type": "code",
   "execution_count": 119,
   "metadata": {},
   "outputs": [],
   "source": [
    "new_df.loc[:, 'OverallQual'] = (new_df.loc[:, 'OverallQual'] + 100).apply(chr)\n",
    "new_df.loc[:, 'OverallCond'] = (new_df.loc[:, 'OverallCond'] + 100).apply(chr)\n",
    "\n",
    "new_df.loc[:, 'MSSubClass'] = ((new_df.loc[:, 'MSSubClass']/10).astype('int') + 100).apply(chr)"
   ]
  },
  {
   "cell_type": "code",
   "execution_count": 120,
   "metadata": {},
   "outputs": [],
   "source": [
    "for feature in li_feats:\n",
    "    #convertimos variables en string y las identificamos con el nombre de la feature\n",
    "    new_df.loc[:, feature] = new_df.loc[:,feature].astype('str')\n",
    "    new_df.loc[:, feature] =  feature + '_' +  new_df.loc[:, feature]\n",
    "    # Creamos los dummies\n",
    "    new_df = pd.concat([new_df, pd.get_dummies(new_df[feature])], axis=1)\n",
    "    new_df.drop(columns=feature, axis=1, inplace=True)"
   ]
  },
  {
   "cell_type": "code",
   "execution_count": 121,
   "metadata": {},
   "outputs": [
    {
     "data": {
      "text/plain": [
       "<AxesSubplot:>"
      ]
     },
     "execution_count": 121,
     "metadata": {},
     "output_type": "execute_result"
    },
    {
     "data": {
      "image/png": "[encoded data removed]",
      "text/plain": [
       "<Figure size 432x288 with 1 Axes>"
      ]
     },
     "metadata": {
      "needs_background": "light"
     },
     "output_type": "display_data"
    }
   ],
   "source": [
    "corr = new_df.corr()\n",
    "corr.SalePrice.plot(kind='bar')"
   ]
  },
  {
   "cell_type": "code",
   "execution_count": 122,
   "metadata": {},
   "outputs": [
    {
     "data": {
      "text/plain": [
       "Index(['SalePrice', 'BsmtFinType1_GLQ', 'Foundation_PConc', 'GarageFinish_Fin',\n",
       "       'Neighborhood_NridgHt', 'OverallQual_l', 'OverallQual_m'],\n",
       "      dtype='object')"
      ]
     },
     "execution_count": 122,
     "metadata": {},
     "output_type": "execute_result"
    }
   ],
   "source": [
    "corr.SalePrice[corr.SalePrice > 0.4].index"
   ]
  },
  {
   "cell_type": "code",
   "execution_count": 124,
   "metadata": {},
   "outputs": [],
   "source": [
    "categorical = ['BsmtFinType1_GLQ', 'Foundation_PConc', 'GarageFinish_Fin',\n",
    "       'Neighborhood_NridgHt', 'OverallQual_l', 'OverallQual_m']"
   ]
  },
  {
   "cell_type": "code",
   "execution_count": 127,
   "metadata": {},
   "outputs": [],
   "source": [
    "categorical_no_ord = []\n",
    "for feature in categorical:\n",
    "    categorical_no_ord.append(feature.split('_')[0])"
   ]
  },
  {
   "cell_type": "code",
   "execution_count": 128,
   "metadata": {},
   "outputs": [
    {
     "data": {
      "text/plain": [
       "['BsmtFinType1',\n",
       " 'Foundation',\n",
       " 'GarageFinish',\n",
       " 'Neighborhood',\n",
       " 'OverallQual',\n",
       " 'OverallQual']"
      ]
     },
     "execution_count": 128,
     "metadata": {},
     "output_type": "execute_result"
    }
   ],
   "source": [
    "categorical_no_ord"
   ]
  },
  {
   "cell_type": "markdown",
   "metadata": {},
   "source": [
    "Encontrar valores atipicos"
   ]
  },
  {
   "cell_type": "code",
   "execution_count": 2,
   "metadata": {},
   "outputs": [],
   "source": [
    "def outliers_obt(data, columna,valoriqr=1.5):\n",
    "    ##calculamos los cuartiles \n",
    "    Q1 = data[columna].quantile(0.25)\n",
    "    #print('Primer Cuartile', Q1)\n",
    "    Q3 = data[columna].quantile(0.75)\n",
    "    #print('Tercer Cuartile',Q3)\n",
    "    IQR = Q3 - Q1\n",
    "    #print('Rango intercuartile', IQR)\n",
    "\n",
    "    ##calculamos los bigotes superior e inferior\n",
    "    BI = (Q1 - valoriqr * IQR)\n",
    "    #print('bigote Inferior \\n', BI)\n",
    "    BS = (Q3 + valoriqr * IQR)\n",
    "    #print('bigote superior \\n', BS)\n",
    "\n",
    "    ##obtenemos una nueva tabla sin los outliers\n",
    "    ubi_sin_out = data.loc[(data[columna] >= BI) & (data[columna] <= BS),:].index\n",
    "    return ubi_sin_out"
   ]
  },
  {
   "cell_type": "code",
   "execution_count": 9,
   "metadata": {},
   "outputs": [],
   "source": [
    "import pandas as pd\n",
    "import numpy as np\n",
    "df = pd.read_csv('datasets/house_train_raw.csv')"
   ]
  },
  {
   "cell_type": "code",
   "execution_count": 10,
   "metadata": {},
   "outputs": [],
   "source": [
    "df1 = df.copy()\n",
    "df1.loc[:, 'SalePrice'] = np.log(df1.SalePrice)"
   ]
  },
  {
   "cell_type": "code",
   "execution_count": 11,
   "metadata": {},
   "outputs": [],
   "source": [
    "df = df.loc[outliers_obt(df1, 'SalePrice'),:].reset_index().copy()"
   ]
  },
  {
   "cell_type": "code",
   "execution_count": 12,
   "metadata": {},
   "outputs": [
    {
     "data": {
      "text/plain": [
       "Int64Index([   0,    1,    2,    3,    4,    5,    6,    7,    8,    9,\n",
       "            ...\n",
       "            1422, 1423, 1424, 1425, 1426, 1427, 1428, 1429, 1430, 1431],\n",
       "           dtype='int64', length=1381)"
      ]
     },
     "execution_count": 12,
     "metadata": {},
     "output_type": "execute_result"
    }
   ],
   "source": [
    "outliers_obt(df, 'SalePrice')"
   ]
  },
  {
   "cell_type": "code",
   "execution_count": 13,
   "metadata": {},
   "outputs": [
    {
     "data": {
      "text/plain": [
       "<AxesSubplot:ylabel='Frequency'>"
      ]
     },
     "execution_count": 13,
     "metadata": {},
     "output_type": "execute_result"
    },
    {
     "data": {
      "image/png": "[encoded data removed]",
      "text/plain": [
       "<Figure size 432x288 with 1 Axes>"
      ]
     },
     "metadata": {
      "needs_background": "light"
     },
     "output_type": "display_data"
    }
   ],
   "source": [
    "(df.SalePrice).plot(kind='hist')"
   ]
  },
  {
   "cell_type": "code",
   "execution_count": 14,
   "metadata": {},
   "outputs": [
    {
     "data": {
      "text/plain": [
       "(1432, 82)"
      ]
     },
     "execution_count": 14,
     "metadata": {},
     "output_type": "execute_result"
    }
   ],
   "source": [
    "df.shape"
   ]
  },
  {
   "cell_type": "code",
   "execution_count": 15,
   "metadata": {},
   "outputs": [],
   "source": [
    "def featureNormalize(X):\n",
    "    m = X.shape[1]\n",
    "    X_nom = X\n",
    "    mu = np.zeros((1, m))\n",
    "    sigma = np.zeros((1,m))\n",
    "\n",
    "    for idx, feature in enumerate(X.columns):\n",
    "        z = X.loc[:,i]\n",
    "        y = z.mean()\n",
    "        w = z.std()\n",
    "        \n",
    "        X_nom.loc[:,feature] = (X_nom.loc[:,feature].copy() - y)/w\n",
    "\n",
    "        mu[idx] = y\n",
    "        sigma[idx] = w\n",
    "\n",
    "    return X_nom, mu, sigma"
   ]
  },
  {
   "cell_type": "code",
   "execution_count": 16,
   "metadata": {},
   "outputs": [
    {
     "data": {
      "text/html": [
       "<div>\n",
       "<style scoped>\n",
       "    .dataframe tbody tr th:only-of-type {\n",
       "        vertical-align: middle;\n",
       "    }\n",
       "\n",
       "    .dataframe tbody tr th {\n",
       "        vertical-align: top;\n",
       "    }\n",
       "\n",
       "    .dataframe thead th {\n",
       "        text-align: right;\n",
       "    }\n",
       "</style>\n",
       "<table border=\"1\" class=\"dataframe\">\n",
       "  <thead>\n",
       "    <tr style=\"text-align: right;\">\n",
       "      <th></th>\n",
       "      <th>index</th>\n",
       "      <th>Id</th>\n",
       "      <th>MSSubClass</th>\n",
       "      <th>MSZoning</th>\n",
       "      <th>LotFrontage</th>\n",
       "      <th>LotArea</th>\n",
       "      <th>Street</th>\n",
       "      <th>Alley</th>\n",
       "      <th>LotShape</th>\n",
       "      <th>LandContour</th>\n",
       "      <th>...</th>\n",
       "      <th>PoolArea</th>\n",
       "      <th>PoolQC</th>\n",
       "      <th>Fence</th>\n",
       "      <th>MiscFeature</th>\n",
       "      <th>MiscVal</th>\n",
       "      <th>MoSold</th>\n",
       "      <th>YrSold</th>\n",
       "      <th>SaleType</th>\n",
       "      <th>SaleCondition</th>\n",
       "      <th>SalePrice</th>\n",
       "    </tr>\n",
       "  </thead>\n",
       "  <tbody>\n",
       "    <tr>\n",
       "      <th>0</th>\n",
       "      <td>0</td>\n",
       "      <td>1</td>\n",
       "      <td>60</td>\n",
       "      <td>RL</td>\n",
       "      <td>65.0</td>\n",
       "      <td>8450</td>\n",
       "      <td>Pave</td>\n",
       "      <td>NaN</td>\n",
       "      <td>Reg</td>\n",
       "      <td>Lvl</td>\n",
       "      <td>...</td>\n",
       "      <td>0</td>\n",
       "      <td>NaN</td>\n",
       "      <td>NaN</td>\n",
       "      <td>NaN</td>\n",
       "      <td>0</td>\n",
       "      <td>2</td>\n",
       "      <td>2008</td>\n",
       "      <td>WD</td>\n",
       "      <td>Normal</td>\n",
       "      <td>208500</td>\n",
       "    </tr>\n",
       "    <tr>\n",
       "      <th>1</th>\n",
       "      <td>1</td>\n",
       "      <td>2</td>\n",
       "      <td>20</td>\n",
       "      <td>RL</td>\n",
       "      <td>80.0</td>\n",
       "      <td>9600</td>\n",
       "      <td>Pave</td>\n",
       "      <td>NaN</td>\n",
       "      <td>Reg</td>\n",
       "      <td>Lvl</td>\n",
       "      <td>...</td>\n",
       "      <td>0</td>\n",
       "      <td>NaN</td>\n",
       "      <td>NaN</td>\n",
       "      <td>NaN</td>\n",
       "      <td>0</td>\n",
       "      <td>5</td>\n",
       "      <td>2007</td>\n",
       "      <td>WD</td>\n",
       "      <td>Normal</td>\n",
       "      <td>181500</td>\n",
       "    </tr>\n",
       "    <tr>\n",
       "      <th>2</th>\n",
       "      <td>2</td>\n",
       "      <td>3</td>\n",
       "      <td>60</td>\n",
       "      <td>RL</td>\n",
       "      <td>68.0</td>\n",
       "      <td>11250</td>\n",
       "      <td>Pave</td>\n",
       "      <td>NaN</td>\n",
       "      <td>IR1</td>\n",
       "      <td>Lvl</td>\n",
       "      <td>...</td>\n",
       "      <td>0</td>\n",
       "      <td>NaN</td>\n",
       "      <td>NaN</td>\n",
       "      <td>NaN</td>\n",
       "      <td>0</td>\n",
       "      <td>9</td>\n",
       "      <td>2008</td>\n",
       "      <td>WD</td>\n",
       "      <td>Normal</td>\n",
       "      <td>223500</td>\n",
       "    </tr>\n",
       "    <tr>\n",
       "      <th>3</th>\n",
       "      <td>3</td>\n",
       "      <td>4</td>\n",
       "      <td>70</td>\n",
       "      <td>RL</td>\n",
       "      <td>60.0</td>\n",
       "      <td>9550</td>\n",
       "      <td>Pave</td>\n",
       "      <td>NaN</td>\n",
       "      <td>IR1</td>\n",
       "      <td>Lvl</td>\n",
       "      <td>...</td>\n",
       "      <td>0</td>\n",
       "      <td>NaN</td>\n",
       "      <td>NaN</td>\n",
       "      <td>NaN</td>\n",
       "      <td>0</td>\n",
       "      <td>2</td>\n",
       "      <td>2006</td>\n",
       "      <td>WD</td>\n",
       "      <td>Abnorml</td>\n",
       "      <td>140000</td>\n",
       "    </tr>\n",
       "    <tr>\n",
       "      <th>4</th>\n",
       "      <td>4</td>\n",
       "      <td>5</td>\n",
       "      <td>60</td>\n",
       "      <td>RL</td>\n",
       "      <td>84.0</td>\n",
       "      <td>14260</td>\n",
       "      <td>Pave</td>\n",
       "      <td>NaN</td>\n",
       "      <td>IR1</td>\n",
       "      <td>Lvl</td>\n",
       "      <td>...</td>\n",
       "      <td>0</td>\n",
       "      <td>NaN</td>\n",
       "      <td>NaN</td>\n",
       "      <td>NaN</td>\n",
       "      <td>0</td>\n",
       "      <td>12</td>\n",
       "      <td>2008</td>\n",
       "      <td>WD</td>\n",
       "      <td>Normal</td>\n",
       "      <td>250000</td>\n",
       "    </tr>\n",
       "    <tr>\n",
       "      <th>...</th>\n",
       "      <td>...</td>\n",
       "      <td>...</td>\n",
       "      <td>...</td>\n",
       "      <td>...</td>\n",
       "      <td>...</td>\n",
       "      <td>...</td>\n",
       "      <td>...</td>\n",
       "      <td>...</td>\n",
       "      <td>...</td>\n",
       "      <td>...</td>\n",
       "      <td>...</td>\n",
       "      <td>...</td>\n",
       "      <td>...</td>\n",
       "      <td>...</td>\n",
       "      <td>...</td>\n",
       "      <td>...</td>\n",
       "      <td>...</td>\n",
       "      <td>...</td>\n",
       "      <td>...</td>\n",
       "      <td>...</td>\n",
       "      <td>...</td>\n",
       "    </tr>\n",
       "    <tr>\n",
       "      <th>1427</th>\n",
       "      <td>1455</td>\n",
       "      <td>1456</td>\n",
       "      <td>60</td>\n",
       "      <td>RL</td>\n",
       "      <td>62.0</td>\n",
       "      <td>7917</td>\n",
       "      <td>Pave</td>\n",
       "      <td>NaN</td>\n",
       "      <td>Reg</td>\n",
       "      <td>Lvl</td>\n",
       "      <td>...</td>\n",
       "      <td>0</td>\n",
       "      <td>NaN</td>\n",
       "      <td>NaN</td>\n",
       "      <td>NaN</td>\n",
       "      <td>0</td>\n",
       "      <td>8</td>\n",
       "      <td>2007</td>\n",
       "      <td>WD</td>\n",
       "      <td>Normal</td>\n",
       "      <td>175000</td>\n",
       "    </tr>\n",
       "    <tr>\n",
       "      <th>1428</th>\n",
       "      <td>1456</td>\n",
       "      <td>1457</td>\n",
       "      <td>20</td>\n",
       "      <td>RL</td>\n",
       "      <td>85.0</td>\n",
       "      <td>13175</td>\n",
       "      <td>Pave</td>\n",
       "      <td>NaN</td>\n",
       "      <td>Reg</td>\n",
       "      <td>Lvl</td>\n",
       "      <td>...</td>\n",
       "      <td>0</td>\n",
       "      <td>NaN</td>\n",
       "      <td>MnPrv</td>\n",
       "      <td>NaN</td>\n",
       "      <td>0</td>\n",
       "      <td>2</td>\n",
       "      <td>2010</td>\n",
       "      <td>WD</td>\n",
       "      <td>Normal</td>\n",
       "      <td>210000</td>\n",
       "    </tr>\n",
       "    <tr>\n",
       "      <th>1429</th>\n",
       "      <td>1457</td>\n",
       "      <td>1458</td>\n",
       "      <td>70</td>\n",
       "      <td>RL</td>\n",
       "      <td>66.0</td>\n",
       "      <td>9042</td>\n",
       "      <td>Pave</td>\n",
       "      <td>NaN</td>\n",
       "      <td>Reg</td>\n",
       "      <td>Lvl</td>\n",
       "      <td>...</td>\n",
       "      <td>0</td>\n",
       "      <td>NaN</td>\n",
       "      <td>GdPrv</td>\n",
       "      <td>Shed</td>\n",
       "      <td>2500</td>\n",
       "      <td>5</td>\n",
       "      <td>2010</td>\n",
       "      <td>WD</td>\n",
       "      <td>Normal</td>\n",
       "      <td>266500</td>\n",
       "    </tr>\n",
       "    <tr>\n",
       "      <th>1430</th>\n",
       "      <td>1458</td>\n",
       "      <td>1459</td>\n",
       "      <td>20</td>\n",
       "      <td>RL</td>\n",
       "      <td>68.0</td>\n",
       "      <td>9717</td>\n",
       "      <td>Pave</td>\n",
       "      <td>NaN</td>\n",
       "      <td>Reg</td>\n",
       "      <td>Lvl</td>\n",
       "      <td>...</td>\n",
       "      <td>0</td>\n",
       "      <td>NaN</td>\n",
       "      <td>NaN</td>\n",
       "      <td>NaN</td>\n",
       "      <td>0</td>\n",
       "      <td>4</td>\n",
       "      <td>2010</td>\n",
       "      <td>WD</td>\n",
       "      <td>Normal</td>\n",
       "      <td>142125</td>\n",
       "    </tr>\n",
       "    <tr>\n",
       "      <th>1431</th>\n",
       "      <td>1459</td>\n",
       "      <td>1460</td>\n",
       "      <td>20</td>\n",
       "      <td>RL</td>\n",
       "      <td>75.0</td>\n",
       "      <td>9937</td>\n",
       "      <td>Pave</td>\n",
       "      <td>NaN</td>\n",
       "      <td>Reg</td>\n",
       "      <td>Lvl</td>\n",
       "      <td>...</td>\n",
       "      <td>0</td>\n",
       "      <td>NaN</td>\n",
       "      <td>NaN</td>\n",
       "      <td>NaN</td>\n",
       "      <td>0</td>\n",
       "      <td>6</td>\n",
       "      <td>2008</td>\n",
       "      <td>WD</td>\n",
       "      <td>Normal</td>\n",
       "      <td>147500</td>\n",
       "    </tr>\n",
       "  </tbody>\n",
       "</table>\n",
       "<p>1432 rows × 82 columns</p>\n",
       "</div>"
      ],
      "text/plain": [
       "      index    Id  MSSubClass MSZoning  LotFrontage  LotArea Street Alley  \\\n",
       "0         0     1          60       RL         65.0     8450   Pave   NaN   \n",
       "1         1     2          20       RL         80.0     9600   Pave   NaN   \n",
       "2         2     3          60       RL         68.0    11250   Pave   NaN   \n",
       "3         3     4          70       RL         60.0     9550   Pave   NaN   \n",
       "4         4     5          60       RL         84.0    14260   Pave   NaN   \n",
       "...     ...   ...         ...      ...          ...      ...    ...   ...   \n",
       "1427   1455  1456          60       RL         62.0     7917   Pave   NaN   \n",
       "1428   1456  1457          20       RL         85.0    13175   Pave   NaN   \n",
       "1429   1457  1458          70       RL         66.0     9042   Pave   NaN   \n",
       "1430   1458  1459          20       RL         68.0     9717   Pave   NaN   \n",
       "1431   1459  1460          20       RL         75.0     9937   Pave   NaN   \n",
       "\n",
       "     LotShape LandContour  ... PoolArea PoolQC  Fence MiscFeature MiscVal  \\\n",
       "0         Reg         Lvl  ...        0    NaN    NaN         NaN       0   \n",
       "1         Reg         Lvl  ...        0    NaN    NaN         NaN       0   \n",
       "2         IR1         Lvl  ...        0    NaN    NaN         NaN       0   \n",
       "3         IR1         Lvl  ...        0    NaN    NaN         NaN       0   \n",
       "4         IR1         Lvl  ...        0    NaN    NaN         NaN       0   \n",
       "...       ...         ...  ...      ...    ...    ...         ...     ...   \n",
       "1427      Reg         Lvl  ...        0    NaN    NaN         NaN       0   \n",
       "1428      Reg         Lvl  ...        0    NaN  MnPrv         NaN       0   \n",
       "1429      Reg         Lvl  ...        0    NaN  GdPrv        Shed    2500   \n",
       "1430      Reg         Lvl  ...        0    NaN    NaN         NaN       0   \n",
       "1431      Reg         Lvl  ...        0    NaN    NaN         NaN       0   \n",
       "\n",
       "     MoSold YrSold SaleType  SaleCondition  SalePrice  \n",
       "0         2   2008       WD         Normal     208500  \n",
       "1         5   2007       WD         Normal     181500  \n",
       "2         9   2008       WD         Normal     223500  \n",
       "3         2   2006       WD        Abnorml     140000  \n",
       "4        12   2008       WD         Normal     250000  \n",
       "...     ...    ...      ...            ...        ...  \n",
       "1427      8   2007       WD         Normal     175000  \n",
       "1428      2   2010       WD         Normal     210000  \n",
       "1429      5   2010       WD         Normal     266500  \n",
       "1430      4   2010       WD         Normal     142125  \n",
       "1431      6   2008       WD         Normal     147500  \n",
       "\n",
       "[1432 rows x 82 columns]"
      ]
     },
     "execution_count": 16,
     "metadata": {},
     "output_type": "execute_result"
    }
   ],
   "source": [
    "df"
   ]
  }
 ],
 "metadata": {
  "kernelspec": {
   "display_name": "Python 3.9.13 64-bit",
   "language": "python",
   "name": "python3"
  },
  "language_info": {
   "codemirror_mode": {
    "name": "ipython",
    "version": 3
   },
   "file_extension": ".py",
   "mimetype": "text/x-python",
   "name": "python",
   "nbconvert_exporter": "python",
   "pygments_lexer": "ipython3",
   "version": "3.9.13"
  },
  "orig_nbformat": 4,
  "vscode": {
   "interpreter": {
    "hash": "89f8f4da03b88366b24b3e615f25203f75fc591e3c4bb5e4e10f1e65da1c83de"
   }
  }
 },
 "nbformat": 4,
 "nbformat_minor": 2
}
