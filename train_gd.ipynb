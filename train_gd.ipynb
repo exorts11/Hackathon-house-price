{
 "cells": [
  {
   "cell_type": "code",
   "execution_count": null,
   "metadata": {},
   "outputs": [],
   "source": [
    "import pandas as pd\n",
    "from sklearn.model_selection import train_test_split\n",
    "import houses as ho\n",
    "import numpy as np\n",
    "import matplotlib.pyplot as plt\n",
    "from sklearn.linear_model import LinearRegression"
   ]
  },
  {
   "cell_type": "code",
   "execution_count": null,
   "metadata": {},
   "outputs": [],
   "source": [
    "df2 = pd.read_csv('datasets/house_train_raw.csv')\n",
    "df, numerical, cat_ord = ho.transform(df2, 0)"
   ]
  },
  {
   "cell_type": "code",
   "execution_count": null,
   "metadata": {},
   "outputs": [],
   "source": [
    "# get the locations\n",
    "X = df.drop(columns='SalePrice', axis=1).copy()\n",
    "X = X.loc[:,numerical]\n",
    "X, mu, sigma = ho.featureNormalize(X)\n",
    "\n",
    "X = X.TotalBsmtSF\n",
    "#X = df.loc[:, numerical+cat_ord]\n",
    "y = df.loc[:, 'SalePrice'].copy()\n"
   ]
  },
  {
   "cell_type": "code",
   "execution_count": null,
   "metadata": {},
   "outputs": [],
   "source": [
    "# https://pythonguides.com/scikit-learn-gradient-descent/\n",
    "import numpy as np\n",
    "import copy\n",
    "\n",
    "class GradientDescentLinearRegression:\n",
    "    def __init__(self, learning_rate=0.2, iterations=1000):\n",
    "        self.learning_rate, self.iterations = learning_rate, iterations\n",
    "    \n",
    "    def fit_model(self, x, y):\n",
    "        #a = 0\n",
    "        #m = 7\n",
    "        theta = np.random.randint(10, size=(x.shape[1],1))\n",
    "        #theta = np.ones((x.shape[1],1))\n",
    "        tn = copy.copy(theta)\n",
    "        n = x.shape[0]\n",
    "        for l in range(self.iterations):\n",
    "            #a_gradient = -2 * np.sum(y - m*x + a) / n\n",
    "            #m_gradient = -2 * np.sum(x*(y - (m*x + a))) / n\n",
    "#\n",
    "#\n",
    "            #a = a + (self.learning_rate * a_gradient)\n",
    "            #m = m - (self.learning_rate * m_gradient)\n",
    "            \n",
    "        #-------------------------------------------------------\n",
    "            predicciones = np.matmul(x,theta)\n",
    "            errores = predicciones - y\n",
    "\n",
    "            for idx, feature in enumerate(x.columns):\n",
    "                xn = x.loc[:, feature].values\n",
    "                tn[idx] = theta[idx] + (self.learning_rate/n)*sum(errores*xn)\n",
    "\n",
    "            theta = tn\n",
    "            print(l)\n",
    "        #-----------------------------------------------------\n",
    "        #    predicciones = X*theta;\n",
    "        #    Errores = (predicciones-y);\n",
    "        #    x1 = X(:, 2);\n",
    "        #    t0 = theta(1,1) - (alpha/m)*sum(Errores);\n",
    "        #    t1 = theta(2,1) - (alpha/m)*sum(Errores.*x1);\n",
    "        #    theta(1,1) = t0;\n",
    "        #    theta(2,1) = t1;\n",
    "        #------------------------------------------------\n",
    "\n",
    "        #    predicciones = X*theta;\n",
    "        #    Errores = (predicciones-y);\n",
    "        #    \n",
    "        #    for i=1:length(theta)\n",
    "        #        xn = X(:,i);\n",
    "        #        tn(i,1) = theta(i,1) - (alpha/m)*sum(Errores.*xn);\n",
    "        #    end\n",
    "        #    \n",
    "        #    theta = tn;\n",
    "\n",
    "        #self.m, self.a = m, a\n",
    "        self.theta = theta\n",
    "        \n",
    "    def predict_model(self, X):\n",
    "        #return self.m*X + self.a\n",
    "        return np.matmul(X, self.theta)\n",
    "\n",
    "\n",
    "#num.random.seed(45)\n",
    "#x = num.array(sorted(list(range(5))*20)) + num.random.normal(size=100, scale=0.10)\n",
    "#y = num.array(sorted(list(range(5))*20)) + num.random.normal(size=100, scale=0.20)\n",
    "\n",
    "# get the locations\n",
    "#X = df.drop(columns='SalePrice', axis=1).copy()\n",
    "#X = X.TotalBsmtSF/2000\n",
    "##X = df.loc[:, numerical+cat_ord]\n",
    "#y = df.loc[:, 'SalePrice'].copy()/250000\n",
    "#\n",
    "#classifier = GradientDescentLinearRegression()\n",
    "#classifier.fit_model(X, y)\n",
    "\n",
    "# get the locations\n",
    "X = df.drop(columns='SalePrice', axis=1).copy()\n",
    "X = X.loc[:,numerical]\n",
    "X, mu, sigma = ho.featureNormalize(X)\n",
    "\n",
    "X['constant'] = 1\n",
    "X = X.loc[:,['TotalBsmtSF', 'constant']]\n",
    "\n",
    "#X = df.loc[:, numerical+cat_ord]\n",
    "y = df.loc[:, 'SalePrice'].copy()\n",
    "\n",
    "classifier = GradientDescentLinearRegression()\n",
    "classifier.fit_model(X, y)"
   ]
  },
  {
   "cell_type": "code",
   "execution_count": null,
   "metadata": {},
   "outputs": [],
   "source": [
    "import matplotlib.pyplot as plt\n",
    "\n",
    "plt.scatter(X.loc[:,'TotalBsmtSF'], y, color='red')\n",
    "plt.plot(X, classifier.predict_model(X))\n",
    "plt.title(\"Gradient Descent Linear Regression\")"
   ]
  }
 ],
 "metadata": {
  "kernelspec": {
   "display_name": "Python 3.9.13 64-bit",
   "language": "python",
   "name": "python3"
  },
  "language_info": {
   "name": "python",
   "version": "3.9.13"
  },
  "orig_nbformat": 4,
  "vscode": {
   "interpreter": {
    "hash": "89f8f4da03b88366b24b3e615f25203f75fc591e3c4bb5e4e10f1e65da1c83de"
   }
  }
 },
 "nbformat": 4,
 "nbformat_minor": 2
}
