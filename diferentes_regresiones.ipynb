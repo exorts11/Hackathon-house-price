{
 "cells": [
  {
   "cell_type": "code",
   "execution_count": 1,
   "metadata": {},
   "outputs": [],
   "source": [
    "import pandas as pd\n",
    "from sklearn.model_selection import train_test_split\n",
    "import houses as ho\n",
    "import numpy as np\n",
    "import matplotlib.pyplot as plt\n",
    "from sklearn.linear_model import ARDRegression, LinearRegression, BayesianRidge"
   ]
  },
  {
   "cell_type": "code",
   "execution_count": 2,
   "metadata": {},
   "outputs": [],
   "source": [
    "df2 = pd.read_csv('datasets/house_train_raw.csv')\n",
    "df, numerical, cat_ord = ho.transform(df2, 0)"
   ]
  },
  {
   "cell_type": "code",
   "execution_count": 3,
   "metadata": {},
   "outputs": [],
   "source": [
    "# get the locations\n",
    "X = df.drop(columns='SalePrice', axis=1).copy()\n",
    "#X = df.loc[:, numerical+cat_ord]\n",
    "y = df.loc[:, 'SalePrice'].copy()\n",
    "\n",
    "# Aplicamos normalizacion de los datos\n",
    "X.loc[:, numerical], mu, sigma = ho.featureNormalize(X.loc[:,numerical])\n",
    "\n",
    "# Agregamos variables de segundo grado de variables numericas\n",
    "grado = 4\n",
    "for feature in numerical: #+cat_ord:\n",
    "    X = pd.concat([X, ho.polyFeatures(X[feature],grado).loc[:,1:]], axis=1).copy()\n",
    "\n",
    "grado = 2\n",
    "for feature in cat_ord: #+cat_ord:\n",
    "    X = pd.concat([X, ho.polyFeatures(X[feature],grado).loc[:,1:]], axis=1).copy()\n",
    "\n",
    "#X['constant'] = 1\n",
    "\n",
    "# get x_train and y_train\n",
    "X_train, X_val, y_train, y_val = train_test_split(\n",
    "    X, y, test_size=0.4, random_state=2)\n",
    "\n",
    "x_t = np.array(X_train)\n",
    "y_t = np.array(y_train)"
   ]
  },
  {
   "cell_type": "code",
   "execution_count": 4,
   "metadata": {},
   "outputs": [
    {
     "data": {
      "image/png": "[encoded data removed]",
      "text/plain": [
       "<Figure size 432x288 with 1 Axes>"
      ]
     },
     "metadata": {
      "needs_background": "light"
     },
     "output_type": "display_data"
    }
   ],
   "source": [
    "olr = LinearRegression().fit(x_t, y_t)\n",
    "brr = BayesianRidge(compute_score=True, n_iter=30).fit(x_t, y_t)\n",
    "ard = ARDRegression(compute_score=True, n_iter=30).fit(x_t, y_t)\n",
    "\n",
    "ard_scores = -np.array(ard.scores_)\n",
    "brr_scores = -np.array(brr.scores_)\n",
    "plt.plot(ard_scores, color=\"navy\", label=\"ARD\")\n",
    "plt.plot(brr_scores, color=\"red\", label=\"BayesianRidge\")\n",
    "plt.ylabel(\"Log-likelihood\")\n",
    "plt.xlabel(\"Iterations\")\n",
    "plt.xlim(1, 30)\n",
    "plt.legend()\n",
    "_ = plt.title(\"Models log-likelihood\")"
   ]
  },
  {
   "cell_type": "code",
   "execution_count": 5,
   "metadata": {},
   "outputs": [],
   "source": [
    "predict_olr = olr.predict(X_val.values)\n",
    "predict_bbr = brr.predict(X_val.values)\n",
    "predict_ard = ard.predict(X_val.values)"
   ]
  },
  {
   "cell_type": "code",
   "execution_count": 6,
   "metadata": {},
   "outputs": [
    {
     "name": "stdout",
     "output_type": "stream",
     "text": [
      "0.13968618204137165\n",
      "0.3613816887212761\n",
      "0.14111351111545975\n"
     ]
    }
   ],
   "source": [
    "print(ho.rmsle(predict_olr, y_val))\n",
    "print(ho.rmsle(predict_bbr, y_val))\n",
    "print(ho.rmsle(predict_ard, y_val))"
   ]
  }
 ],
 "metadata": {
  "kernelspec": {
   "display_name": "Python 3.9.13 64-bit",
   "language": "python",
   "name": "python3"
  },
  "language_info": {
   "codemirror_mode": {
    "name": "ipython",
    "version": 3
   },
   "file_extension": ".py",
   "mimetype": "text/x-python",
   "name": "python",
   "nbconvert_exporter": "python",
   "pygments_lexer": "ipython3",
   "version": "3.9.13"
  },
  "orig_nbformat": 4,
  "vscode": {
   "interpreter": {
    "hash": "89f8f4da03b88366b24b3e615f25203f75fc591e3c4bb5e4e10f1e65da1c83de"
   }
  }
 },
 "nbformat": 4,
 "nbformat_minor": 2
}
