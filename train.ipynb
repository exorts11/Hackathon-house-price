{
 "cells": [
  {
   "cell_type": "code",
   "execution_count": 1,
   "metadata": {},
   "outputs": [],
   "source": [
    "import pandas as pd\n",
    "from sklearn.model_selection import train_test_split\n",
    "import houses as ho\n",
    "import numpy as np\n",
    "import matplotlib.pyplot as plt\n",
    "from sklearn.linear_model import LinearRegression"
   ]
  },
  {
   "cell_type": "code",
   "execution_count": 2,
   "metadata": {},
   "outputs": [],
   "source": [
    "df2 = pd.read_csv('datasets/house_train_raw.csv')"
   ]
  },
  {
   "cell_type": "code",
   "execution_count": 3,
   "metadata": {},
   "outputs": [],
   "source": [
    "df, numerical, cat_ord = ho.transform(df2, 0)"
   ]
  },
  {
   "cell_type": "markdown",
   "metadata": {},
   "source": [
    "Mejor grado polinomial"
   ]
  },
  {
   "cell_type": "code",
   "execution_count": 4,
   "metadata": {},
   "outputs": [],
   "source": [
    "error = np.zeros((10,1))\n",
    "\n",
    "for i in range(1,11):\n",
    "    # get the locations\n",
    "    \n",
    "    X = df.drop(columns='SalePrice', axis=1).copy()\n",
    "    # Aplicamos normalizacion de los datos\n",
    "    X.loc[:, numerical], mu, sigma = ho.featureNormalize(X.loc[:,numerical])\n",
    "\n",
    "    #X = df.loc[:, numerical+cat_ord]\n",
    "    \n",
    "    y = df.loc[:, 'SalePrice']\n",
    "\n",
    "    grado = i\n",
    "    \n",
    "    for feature in numerical+cat_ord:\n",
    "        X = pd.concat([X, ho.polyFeatures(X[feature],grado).loc[:,1:]], axis=1)\n",
    "\n",
    "    # get x_train and y_train\n",
    "    X_train, X_val, y_train, y_val = train_test_split(\n",
    "        X, y, test_size=0.4, random_state=2)\n",
    "\n",
    "\n",
    "    x_t = np.array(X_train)\n",
    "    y_t = np.array(y_train)\n",
    "\n",
    "\n",
    "    reg = LinearRegression().fit(x_t, y_t)\n",
    "\n",
    "    predict = reg.predict(X_val.values)\n",
    "\n",
    "    error[i-1] = ho.rmsle(predict, y_val)"
   ]
  },
  {
   "cell_type": "code",
   "execution_count": 5,
   "metadata": {},
   "outputs": [
    {
     "data": {
      "text/plain": [
       "array([[0.14448587],\n",
       "       [0.14780198],\n",
       "       [0.14745747],\n",
       "       [0.14163582],\n",
       "       [0.14574742],\n",
       "       [0.14200445],\n",
       "       [0.14610267],\n",
       "       [0.14252895],\n",
       "       [0.16543332],\n",
       "       [0.19250647]])"
      ]
     },
     "execution_count": 5,
     "metadata": {},
     "output_type": "execute_result"
    }
   ],
   "source": [
    "error"
   ]
  },
  {
   "cell_type": "code",
   "execution_count": 6,
   "metadata": {},
   "outputs": [],
   "source": [
    "# get the locations\n",
    "X = df.drop(columns='SalePrice', axis=1).copy()\n",
    "#X = df.loc[:, numerical+cat_ord]\n",
    "y = df.loc[:, 'SalePrice'].copy()\n",
    "\n",
    "# Aplicamos normalizacion de los datos\n",
    "X.loc[:, numerical], mu, sigma = ho.featureNormalize(X.loc[:,numerical])\n",
    "\n",
    "grado = 4\n",
    "for feature in numerical: #+cat_ord:\n",
    "    X = pd.concat([X, ho.polyFeatures(X[feature],grado).loc[:,1:]], axis=1).copy()\n",
    "\n",
    "grado = 2\n",
    "for feature in cat_ord: #+cat_ord:\n",
    "    X = pd.concat([X, ho.polyFeatures(X[feature],grado).loc[:,1:]], axis=1).copy()\n",
    "#X['constant'] = 1\n",
    "\n",
    "# get x_train and y_train\n",
    "X_train, X_val, y_train, y_val = train_test_split(\n",
    "    X, y, test_size=0.4, random_state=2)\n",
    "\n",
    "x_t = np.array(X_train)\n",
    "y_t = np.array(y_train)"
   ]
  },
  {
   "cell_type": "markdown",
   "metadata": {},
   "source": [
    "Entrenamiento"
   ]
  },
  {
   "cell_type": "code",
   "execution_count": 7,
   "metadata": {},
   "outputs": [],
   "source": [
    "reg = LinearRegression().fit(x_t, y_t)\n",
    "#theta = ho.normalEqn(x_t, y_t)"
   ]
  },
  {
   "cell_type": "code",
   "execution_count": 8,
   "metadata": {},
   "outputs": [],
   "source": [
    "#predict = np.matmul(X_val, theta)\n",
    "predict = reg.predict(X_val.values)"
   ]
  },
  {
   "cell_type": "code",
   "execution_count": 9,
   "metadata": {},
   "outputs": [
    {
     "data": {
      "image/png": "[encoded data removed]",
      "text/plain": [
       "<Figure size 432x288 with 1 Axes>"
      ]
     },
     "metadata": {
      "needs_background": "light"
     },
     "output_type": "display_data"
    }
   ],
   "source": [
    "plt.hist(sorted(np.absolute(predict - y_val)))\n",
    "plt.show()"
   ]
  },
  {
   "cell_type": "code",
   "execution_count": 10,
   "metadata": {},
   "outputs": [
    {
     "data": {
      "text/plain": [
       "0.13968618204137165"
      ]
     },
     "execution_count": 10,
     "metadata": {},
     "output_type": "execute_result"
    }
   ],
   "source": [
    "ho.rmsle(predict, y_val)"
   ]
  },
  {
   "cell_type": "markdown",
   "metadata": {},
   "source": [
    "Curvas de aprendizaje"
   ]
  },
  {
   "cell_type": "code",
   "execution_count": 11,
   "metadata": {},
   "outputs": [
    {
     "name": "stderr",
     "output_type": "stream",
     "text": [
      "c:\\Users\\exort\\Documents\\Code\\Henry\\Hackathon\\Hackathon-house-price\\houses.py:202: RuntimeWarning: invalid value encountered in log\n",
      "  z = (np.log(predict+1) - np.log(actual+1))**2\n",
      "c:\\Users\\exort\\Documents\\Code\\Henry\\Hackathon\\Hackathon-house-price\\houses.py:202: RuntimeWarning: invalid value encountered in log\n",
      "  z = (np.log(predict+1) - np.log(actual+1))**2\n",
      "c:\\Users\\exort\\Documents\\Code\\Henry\\Hackathon\\Hackathon-house-price\\houses.py:202: RuntimeWarning: invalid value encountered in log\n",
      "  z = (np.log(predict+1) - np.log(actual+1))**2\n",
      "c:\\Users\\exort\\Documents\\Code\\Henry\\Hackathon\\Hackathon-house-price\\houses.py:202: RuntimeWarning: invalid value encountered in log\n",
      "  z = (np.log(predict+1) - np.log(actual+1))**2\n",
      "c:\\Users\\exort\\Documents\\Code\\Henry\\Hackathon\\Hackathon-house-price\\houses.py:202: RuntimeWarning: invalid value encountered in log\n",
      "  z = (np.log(predict+1) - np.log(actual+1))**2\n",
      "c:\\Users\\exort\\Documents\\Code\\Henry\\Hackathon\\Hackathon-house-price\\houses.py:202: RuntimeWarning: invalid value encountered in log\n",
      "  z = (np.log(predict+1) - np.log(actual+1))**2\n",
      "c:\\Users\\exort\\Documents\\Code\\Henry\\Hackathon\\Hackathon-house-price\\houses.py:202: RuntimeWarning: invalid value encountered in log\n",
      "  z = (np.log(predict+1) - np.log(actual+1))**2\n",
      "c:\\Users\\exort\\Documents\\Code\\Henry\\Hackathon\\Hackathon-house-price\\houses.py:202: RuntimeWarning: invalid value encountered in log\n",
      "  z = (np.log(predict+1) - np.log(actual+1))**2\n"
     ]
    }
   ],
   "source": [
    "z = 40\n",
    "m = X_train.shape[0]\n",
    "j_train = np.zeros((m-z,1))\n",
    "j_val = np.zeros((m-z,1))\n",
    "\n",
    "for sample_size in range(z,m,20):\n",
    "\n",
    "    sample_x = x_t[:sample_size,:]\n",
    "    sample_y = y_t[:sample_size]\n",
    "\n",
    "    #------------------------------------------------\n",
    "    # entrenar modelo\n",
    "    reg = LinearRegression().fit(sample_x, sample_y)\n",
    "\n",
    "    # evaluar modelo en conjunto de entrenamiento y validacion.\n",
    "    prediction_train = reg.predict(sample_x)\n",
    "    prediction_val = reg.predict(X_val.values)\n",
    "    #--------------------------------------------\n",
    "\n",
    "    #theta = ho.normalEqn(sample_x, sample_y)\n",
    "##\n",
    "    ## evaluar modelo en conjunto de entrenamiento y validacion.\n",
    "    #prediction_train = np.matmul(sample_x, theta)\n",
    "    #prediction_val = np.matmul(X_val, theta)\n",
    "\n",
    "\n",
    "    # obtener el error en los conjuntos de entrenamiento y validacion\n",
    "    j_train[sample_size-z] = ho.rmsle(prediction_train, sample_y)\n",
    "    j_val[sample_size-z] = ho.rmsle(prediction_val, y_val)\n",
    "\n",
    "    "
   ]
  },
  {
   "cell_type": "code",
   "execution_count": 12,
   "metadata": {},
   "outputs": [
    {
     "data": {
      "image/png": "[encoded data removed]",
      "text/plain": [
       "<Figure size 1440x720 with 1 Axes>"
      ]
     },
     "metadata": {
      "needs_background": "light"
     },
     "output_type": "display_data"
    }
   ],
   "source": [
    "plt.figure(figsize=(20,10))\n",
    "plt.plot(j_train[j_train!=0])\n",
    "plt.plot(j_val[j_val!=0])\n",
    "plt.show()"
   ]
  },
  {
   "cell_type": "markdown",
   "metadata": {},
   "source": [
    "Guardar modelo"
   ]
  },
  {
   "cell_type": "code",
   "execution_count": 19,
   "metadata": {},
   "outputs": [
    {
     "data": {
      "text/plain": [
       "['LinearRegression_house.pkl']"
      ]
     },
     "execution_count": 19,
     "metadata": {},
     "output_type": "execute_result"
    }
   ],
   "source": [
    "import joblib\n",
    "joblib.dump(reg, 'LinearRegression_house.pkl')"
   ]
  },
  {
   "cell_type": "markdown",
   "metadata": {},
   "source": [
    "Llenar csv de test"
   ]
  },
  {
   "cell_type": "code",
   "execution_count": 20,
   "metadata": {},
   "outputs": [],
   "source": [
    "test_data = pd.read_csv('datasets/houses_test_raw.csv')\n",
    "test_data['SalePrice'] = 1\n",
    "\n",
    "test, numerical, cat_ord = ho.transform(test_data, 0)\n",
    "test = test.iloc[:,test.columns != 'SalePrice']\n",
    "\n",
    "# aplicamos la normalizacion\n",
    "test.loc[:,numerical] = (test.loc[:,numerical]-np.transpose(mu))/ np.transpose(sigma)\n",
    "\n",
    "# Agregamos las variables de segundo grado\n",
    "grado = 4\n",
    "for feature in numerical: #+cat_ord:\n",
    "    test = pd.concat([test, ho.polyFeatures(test[feature],grado).loc[:,1:]], axis=1).copy()\n",
    "\n",
    "grado = 2\n",
    "for feature in cat_ord: #+cat_ord:\n",
    "    test = pd.concat([test, ho.polyFeatures(test[feature],grado).loc[:,1:]], axis=1).copy()\n",
    "#X['constant'] = 1\n",
    "\n",
    "test_array = np.array(test)"
   ]
  },
  {
   "cell_type": "code",
   "execution_count": 29,
   "metadata": {},
   "outputs": [],
   "source": [
    "# Cargar modelo\n",
    "reg = joblib.load('LinearRegression_house.pkl')\n",
    "\n",
    "# get predict\n",
    "predict = reg.predict(test_array)\n",
    "pd.DataFrame(predict, columns=['pred']).to_csv('pred_test.csv', index=False)"
   ]
  }
 ],
 "metadata": {
  "kernelspec": {
   "display_name": "Python 3.9.13 64-bit",
   "language": "python",
   "name": "python3"
  },
  "language_info": {
   "codemirror_mode": {
    "name": "ipython",
    "version": 3
   },
   "file_extension": ".py",
   "mimetype": "text/x-python",
   "name": "python",
   "nbconvert_exporter": "python",
   "pygments_lexer": "ipython3",
   "version": "3.9.13"
  },
  "orig_nbformat": 4,
  "vscode": {
   "interpreter": {
    "hash": "89f8f4da03b88366b24b3e615f25203f75fc591e3c4bb5e4e10f1e65da1c83de"
   }
  }
 },
 "nbformat": 4,
 "nbformat_minor": 2
}
